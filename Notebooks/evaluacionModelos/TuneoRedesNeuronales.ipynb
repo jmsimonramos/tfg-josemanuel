{
 "cells": [
  {
   "cell_type": "code",
   "execution_count": 1,
   "metadata": {},
   "outputs": [],
   "source": [
    "import pandas as pd\n",
    "from sklearn.model_selection import train_test_split\n",
    "from sklearn.neural_network import MLPClassifier\n",
    "import random\n",
    "\n",
    "pd.set_option('display.max_columns', None)"
   ]
  },
  {
   "cell_type": "code",
   "execution_count": 2,
   "metadata": {},
   "outputs": [
    {
     "output_type": "execute_result",
     "data": {
      "text/plain": "   id_leg  operation  runway  hexid  callsign  type  origin  destination  \\\n0  733513          0       5    483      6920    22     186          268   \n1  733498          0       5    515       246    23     664          268   \n2  733495          0       5    814       262    67     212          268   \n3  733501          0       5    625       277    23     254          268   \n4  733496          0       5    491       268    23     421          268   \n\n   altitude  ground_speed  vertical_rate  tmp  dew_pt  rel_hum  wind_dir  \\\n0    1625.0         142.0         -768.0  7.0     0.0   61.017     250.0   \n1    1850.0         137.0         -768.0  7.0    -1.0   56.724     250.0   \n2    2200.0         156.0         -832.0  7.0    -1.0   56.724     230.0   \n3    1862.5         143.0         -640.0  7.0    -1.0   56.724     230.0   \n4    2000.0         136.0         -640.0  5.0     0.0   70.063     160.0   \n\n   win_sp  wind_gust  visib   press  sky_lvl  rain  snow  drizzle  fog  \\\n0  20.372   0.000000   10.0  1030.0     10.0   0.0   0.0      0.0  0.0   \n1  25.928  44.447962   10.0  1030.0     10.0   0.0   0.0      0.0  0.0   \n2  16.668   0.000000   10.0  1031.0     10.0   0.0   0.0      0.0  0.0   \n3  16.668   0.000000   10.0  1031.0     10.0   0.0   0.0      0.0  0.0   \n4  12.964   0.000000   10.0  1031.0     10.0   0.0   0.0      0.0  0.0   \n\n   time_class  day_week  month  time_ref  operation_Landing  \\\n0         2.0       1.0    1.0       6.0                1.0   \n1         3.0       1.0    1.0       7.0                1.0   \n2         3.0       1.0    1.0       8.0                1.0   \n3         3.0       1.0    1.0       8.0                1.0   \n4         4.0       1.0    1.0       9.0                1.0   \n\n   operation_TakeOff  runway_14L  runway_14R  runway_18L  runway_18R  \\\n0                0.0         0.0         0.0         0.0         0.0   \n1                0.0         0.0         0.0         0.0         0.0   \n2                0.0         0.0         0.0         0.0         0.0   \n3                0.0         0.0         0.0         0.0         0.0   \n4                0.0         0.0         0.0         0.0         0.0   \n\n   runway_32L  runway_32R  runway_36L  runway_36R  configuration_NORTE  \\\n0         0.0         1.0         0.0         0.0                    1   \n1         0.0         1.0         0.0         0.0                    1   \n2         0.0         1.0         0.0         0.0                    1   \n3         0.0         1.0         0.0         0.0                    1   \n4         0.0         1.0         0.0         0.0                    1   \n\n   configuration_SUR  configuration  \n0                  0              0  \n1                  0              0  \n2                  0              0  \n3                  0              0  \n4                  0              0  ",
      "text/html": "<div>\n<style scoped>\n    .dataframe tbody tr th:only-of-type {\n        vertical-align: middle;\n    }\n\n    .dataframe tbody tr th {\n        vertical-align: top;\n    }\n\n    .dataframe thead th {\n        text-align: right;\n    }\n</style>\n<table border=\"1\" class=\"dataframe\">\n  <thead>\n    <tr style=\"text-align: right;\">\n      <th></th>\n      <th>id_leg</th>\n      <th>operation</th>\n      <th>runway</th>\n      <th>hexid</th>\n      <th>callsign</th>\n      <th>type</th>\n      <th>origin</th>\n      <th>destination</th>\n      <th>altitude</th>\n      <th>ground_speed</th>\n      <th>vertical_rate</th>\n      <th>tmp</th>\n      <th>dew_pt</th>\n      <th>rel_hum</th>\n      <th>wind_dir</th>\n      <th>win_sp</th>\n      <th>wind_gust</th>\n      <th>visib</th>\n      <th>press</th>\n      <th>sky_lvl</th>\n      <th>rain</th>\n      <th>snow</th>\n      <th>drizzle</th>\n      <th>fog</th>\n      <th>time_class</th>\n      <th>day_week</th>\n      <th>month</th>\n      <th>time_ref</th>\n      <th>operation_Landing</th>\n      <th>operation_TakeOff</th>\n      <th>runway_14L</th>\n      <th>runway_14R</th>\n      <th>runway_18L</th>\n      <th>runway_18R</th>\n      <th>runway_32L</th>\n      <th>runway_32R</th>\n      <th>runway_36L</th>\n      <th>runway_36R</th>\n      <th>configuration_NORTE</th>\n      <th>configuration_SUR</th>\n      <th>configuration</th>\n    </tr>\n  </thead>\n  <tbody>\n    <tr>\n      <th>0</th>\n      <td>733513</td>\n      <td>0</td>\n      <td>5</td>\n      <td>483</td>\n      <td>6920</td>\n      <td>22</td>\n      <td>186</td>\n      <td>268</td>\n      <td>1625.0</td>\n      <td>142.0</td>\n      <td>-768.0</td>\n      <td>7.0</td>\n      <td>0.0</td>\n      <td>61.017</td>\n      <td>250.0</td>\n      <td>20.372</td>\n      <td>0.000000</td>\n      <td>10.0</td>\n      <td>1030.0</td>\n      <td>10.0</td>\n      <td>0.0</td>\n      <td>0.0</td>\n      <td>0.0</td>\n      <td>0.0</td>\n      <td>2.0</td>\n      <td>1.0</td>\n      <td>1.0</td>\n      <td>6.0</td>\n      <td>1.0</td>\n      <td>0.0</td>\n      <td>0.0</td>\n      <td>0.0</td>\n      <td>0.0</td>\n      <td>0.0</td>\n      <td>0.0</td>\n      <td>1.0</td>\n      <td>0.0</td>\n      <td>0.0</td>\n      <td>1</td>\n      <td>0</td>\n      <td>0</td>\n    </tr>\n    <tr>\n      <th>1</th>\n      <td>733498</td>\n      <td>0</td>\n      <td>5</td>\n      <td>515</td>\n      <td>246</td>\n      <td>23</td>\n      <td>664</td>\n      <td>268</td>\n      <td>1850.0</td>\n      <td>137.0</td>\n      <td>-768.0</td>\n      <td>7.0</td>\n      <td>-1.0</td>\n      <td>56.724</td>\n      <td>250.0</td>\n      <td>25.928</td>\n      <td>44.447962</td>\n      <td>10.0</td>\n      <td>1030.0</td>\n      <td>10.0</td>\n      <td>0.0</td>\n      <td>0.0</td>\n      <td>0.0</td>\n      <td>0.0</td>\n      <td>3.0</td>\n      <td>1.0</td>\n      <td>1.0</td>\n      <td>7.0</td>\n      <td>1.0</td>\n      <td>0.0</td>\n      <td>0.0</td>\n      <td>0.0</td>\n      <td>0.0</td>\n      <td>0.0</td>\n      <td>0.0</td>\n      <td>1.0</td>\n      <td>0.0</td>\n      <td>0.0</td>\n      <td>1</td>\n      <td>0</td>\n      <td>0</td>\n    </tr>\n    <tr>\n      <th>2</th>\n      <td>733495</td>\n      <td>0</td>\n      <td>5</td>\n      <td>814</td>\n      <td>262</td>\n      <td>67</td>\n      <td>212</td>\n      <td>268</td>\n      <td>2200.0</td>\n      <td>156.0</td>\n      <td>-832.0</td>\n      <td>7.0</td>\n      <td>-1.0</td>\n      <td>56.724</td>\n      <td>230.0</td>\n      <td>16.668</td>\n      <td>0.000000</td>\n      <td>10.0</td>\n      <td>1031.0</td>\n      <td>10.0</td>\n      <td>0.0</td>\n      <td>0.0</td>\n      <td>0.0</td>\n      <td>0.0</td>\n      <td>3.0</td>\n      <td>1.0</td>\n      <td>1.0</td>\n      <td>8.0</td>\n      <td>1.0</td>\n      <td>0.0</td>\n      <td>0.0</td>\n      <td>0.0</td>\n      <td>0.0</td>\n      <td>0.0</td>\n      <td>0.0</td>\n      <td>1.0</td>\n      <td>0.0</td>\n      <td>0.0</td>\n      <td>1</td>\n      <td>0</td>\n      <td>0</td>\n    </tr>\n    <tr>\n      <th>3</th>\n      <td>733501</td>\n      <td>0</td>\n      <td>5</td>\n      <td>625</td>\n      <td>277</td>\n      <td>23</td>\n      <td>254</td>\n      <td>268</td>\n      <td>1862.5</td>\n      <td>143.0</td>\n      <td>-640.0</td>\n      <td>7.0</td>\n      <td>-1.0</td>\n      <td>56.724</td>\n      <td>230.0</td>\n      <td>16.668</td>\n      <td>0.000000</td>\n      <td>10.0</td>\n      <td>1031.0</td>\n      <td>10.0</td>\n      <td>0.0</td>\n      <td>0.0</td>\n      <td>0.0</td>\n      <td>0.0</td>\n      <td>3.0</td>\n      <td>1.0</td>\n      <td>1.0</td>\n      <td>8.0</td>\n      <td>1.0</td>\n      <td>0.0</td>\n      <td>0.0</td>\n      <td>0.0</td>\n      <td>0.0</td>\n      <td>0.0</td>\n      <td>0.0</td>\n      <td>1.0</td>\n      <td>0.0</td>\n      <td>0.0</td>\n      <td>1</td>\n      <td>0</td>\n      <td>0</td>\n    </tr>\n    <tr>\n      <th>4</th>\n      <td>733496</td>\n      <td>0</td>\n      <td>5</td>\n      <td>491</td>\n      <td>268</td>\n      <td>23</td>\n      <td>421</td>\n      <td>268</td>\n      <td>2000.0</td>\n      <td>136.0</td>\n      <td>-640.0</td>\n      <td>5.0</td>\n      <td>0.0</td>\n      <td>70.063</td>\n      <td>160.0</td>\n      <td>12.964</td>\n      <td>0.000000</td>\n      <td>10.0</td>\n      <td>1031.0</td>\n      <td>10.0</td>\n      <td>0.0</td>\n      <td>0.0</td>\n      <td>0.0</td>\n      <td>0.0</td>\n      <td>4.0</td>\n      <td>1.0</td>\n      <td>1.0</td>\n      <td>9.0</td>\n      <td>1.0</td>\n      <td>0.0</td>\n      <td>0.0</td>\n      <td>0.0</td>\n      <td>0.0</td>\n      <td>0.0</td>\n      <td>0.0</td>\n      <td>1.0</td>\n      <td>0.0</td>\n      <td>0.0</td>\n      <td>1</td>\n      <td>0</td>\n      <td>0</td>\n    </tr>\n  </tbody>\n</table>\n</div>"
     },
     "metadata": {},
     "execution_count": 2
    }
   ],
   "source": [
    "df = pd.read_csv(\"../data/datasets/cleanDataConfig.csv\" , sep=\";\")\n",
    "df.head()"
   ]
  },
  {
   "cell_type": "code",
   "execution_count": 3,
   "metadata": {},
   "outputs": [
    {
     "output_type": "execute_result",
     "data": {
      "text/plain": "(733822, 41)"
     },
     "metadata": {},
     "execution_count": 3
    }
   ],
   "source": [
    "df.shape"
   ]
  },
  {
   "cell_type": "code",
   "execution_count": 4,
   "metadata": {},
   "outputs": [],
   "source": [
    "columns_names = df.columns.to_list()\n",
    "\n",
    "predictors = columns_names[:38]\n",
    "\n",
    "target = columns_names[-1]\n",
    "\n",
    "X = df[predictors]\n",
    "\n",
    "Y = df[target]"
   ]
  },
  {
   "cell_type": "code",
   "execution_count": 5,
   "metadata": {},
   "outputs": [],
   "source": [
    "def rrnn_layers_neurons():\n",
    "    neuron_list = []\n",
    "    filename = '../data/resultados/evaluacionModelos/rrnnConfig.csv'\n",
    "    \n",
    "    X_train , X_test , Y_train , Y_test = train_test_split(X , Y , test_size=0.2, shuffle=True, random_state=0)\n",
    "    \n",
    "    for iteration in range(80):\n",
    "        print(f\"2-2 --> Iteration {iteration+1} de 50\")\n",
    "        neuron_list.clear()\n",
    "        \n",
    "        for _ in range(1, 4 + 1):\n",
    "            neuron_list.append(random.randint(23,42))\n",
    "            neuron_set = tuple(neuron_list)\n",
    "        \n",
    "        mlp_norm = MLPClassifier(hidden_layer_sizes=neuron_set ,activation='relu' , solver='adam' , max_iter=100)\n",
    "        mlp_norm.fit(X_train , Y_train)\n",
    "        accuracy = mlp_norm.score(X_test , Y_test)\n",
    "\n",
    "        with open (filename , 'a' , encoding='utf-8') as file:\n",
    "            file.write(f\"{neuron_list}{len(neuron_list)};{neuron};{accuracy}\" + '\\n')\n",
    "   "
   ]
  },
  {
   "cell_type": "code",
   "execution_count": 6,
   "metadata": {},
   "outputs": [],
   "source": [
    "def rrnn_learning_rate():\n",
    "    neuron_list = []\n",
    "    filename = '../data/resultados/evaluacionModelos/rrnnLearningRate.csv'\n",
    "    learning_rate = [0.00001, 0.0001, 0.001, 0.01, 0.1, 1.0]\n",
    "    aux = ['constant', 'invscaling', 'adaptive']\n",
    "\n",
    "    X_train , X_test , Y_train , Y_test = train_test_split(X , Y , test_size=0.2, shuffle=True, random_state=0)\n",
    "    \n",
    "    for idxlr, lr in enumerate(learning_rate):\n",
    "\n",
    "        for idxa, types in enumerate(aux):\n",
    "\n",
    "            print(f'LR --> {idxlr + 1} de {len(learning_rate)}\\nTIPO --> {idxa + 1} de {len(aux)}')\n",
    "\n",
    "            mlp_norm = MLPClassifier(hidden_layer_sizes=(19,20,28,31) ,activation='relu' , solver='adam' , max_iter=5, learning_rate=types, learning_rate_init=lr , random_state=0 , shuffle=True)\n",
    "\n",
    "            mlp_norm.fit(X_train , Y_train)\n",
    "            accuracy = mlp_norm.score(X_test , Y_test)\n",
    "\n",
    "            with open (filename , 'a' , encoding='utf-8') as file:\n",
    "                file.write(f\"{lr};{types};{accuracy}\" + '\\n')\n",
    "   "
   ]
  },
  {
   "cell_type": "code",
   "execution_count": 7,
   "metadata": {},
   "outputs": [],
   "source": [
    "def main():\n",
    "    print(\"Inicio prueba RRNN\")\n",
    "    try:\n",
    "        rrnn_layers_neurons()\n",
    "        print(\"Fin del RRNN\")\n",
    "    except Exception as e:\n",
    "        print(f\"ERROR. Se ha producido un error en el RRNN (Layers and Neurons). Error:\\n{e}\")\n",
    "        pass\n",
    "    try:\n",
    "        rrnn_learning_rate()\n",
    "        print(\"Fin del RRNN (Learning Rate)\")\n",
    "    except Exception as e:\n",
    "        print(f\"ERROR. Se ha producido un error en el RRNN (Learning rate). Error:\\n{e}\")\n",
    "        pass\n",
    "    print(\"Fin prueba modelos!!!!!!!\")"
   ]
  },
  {
   "cell_type": "code",
   "execution_count": 8,
   "metadata": {
    "tags": []
   },
   "outputs": [
    {
     "output_type": "stream",
     "name": "stdout",
     "text": "Inicio prueba RRNN\n2-2 --> Iteration 1 de 50\n2-2 --> Iteration 2 de 50\n2-2 --> Iteration 3 de 50\n2-2 --> Iteration 4 de 50\n2-2 --> Iteration 5 de 50\n2-2 --> Iteration 6 de 50\n2-2 --> Iteration 7 de 50\n2-2 --> Iteration 8 de 50\n2-2 --> Iteration 9 de 50\n2-2 --> Iteration 10 de 50\n2-2 --> Iteration 11 de 50\n2-2 --> Iteration 12 de 50\n2-2 --> Iteration 13 de 50\n2-2 --> Iteration 14 de 50\n2-2 --> Iteration 15 de 50\n2-2 --> Iteration 16 de 50\n2-2 --> Iteration 17 de 50\n2-2 --> Iteration 18 de 50\n2-2 --> Iteration 19 de 50\n2-2 --> Iteration 20 de 50\n2-2 --> Iteration 21 de 50\n2-2 --> Iteration 22 de 50\n2-2 --> Iteration 23 de 50\n2-2 --> Iteration 24 de 50\n2-2 --> Iteration 25 de 50\n2-2 --> Iteration 26 de 50\n2-2 --> Iteration 27 de 50\n2-2 --> Iteration 28 de 50\n2-2 --> Iteration 29 de 50\n2-2 --> Iteration 30 de 50\n2-2 --> Iteration 31 de 50\n2-2 --> Iteration 32 de 50\n2-2 --> Iteration 33 de 50\n2-2 --> Iteration 34 de 50\n2-2 --> Iteration 35 de 50\n2-2 --> Iteration 36 de 50\n2-2 --> Iteration 37 de 50\n2-2 --> Iteration 38 de 50\n2-2 --> Iteration 39 de 50\n2-2 --> Iteration 40 de 50\n2-2 --> Iteration 41 de 50\n2-2 --> Iteration 42 de 50\n2-2 --> Iteration 43 de 50\n2-2 --> Iteration 44 de 50\n2-2 --> Iteration 45 de 50\n2-2 --> Iteration 46 de 50\n2-2 --> Iteration 47 de 50\n2-2 --> Iteration 48 de 50\n2-2 --> Iteration 49 de 50\n2-2 --> Iteration 50 de 50\n2-2 --> Iteration 51 de 50\n2-2 --> Iteration 52 de 50\n2-2 --> Iteration 53 de 50\n2-2 --> Iteration 54 de 50\n2-2 --> Iteration 55 de 50\n2-2 --> Iteration 56 de 50\n2-2 --> Iteration 57 de 50\n2-2 --> Iteration 58 de 50\n2-2 --> Iteration 59 de 50\n2-2 --> Iteration 60 de 50\n2-2 --> Iteration 61 de 50\n2-2 --> Iteration 62 de 50\n2-2 --> Iteration 63 de 50\n2-2 --> Iteration 64 de 50\n2-2 --> Iteration 65 de 50\n2-2 --> Iteration 66 de 50\n2-2 --> Iteration 67 de 50\n2-2 --> Iteration 68 de 50\n2-2 --> Iteration 69 de 50\n2-2 --> Iteration 70 de 50\n2-2 --> Iteration 71 de 50\n2-2 --> Iteration 72 de 50\n2-2 --> Iteration 73 de 50\n2-2 --> Iteration 74 de 50\n2-2 --> Iteration 75 de 50\n2-2 --> Iteration 76 de 50\n2-2 --> Iteration 77 de 50\n2-2 --> Iteration 78 de 50\n2-2 --> Iteration 79 de 50\n2-2 --> Iteration 80 de 50\nFin del RRNN\nLR --> 1 de 6\nTIPO --> 1 de 3\nLR --> 1 de 6\nTIPO --> 2 de 3\nLR --> 1 de 6\nTIPO --> 3 de 3\nLR --> 2 de 6\nTIPO --> 1 de 3\nLR --> 2 de 6\nTIPO --> 2 de 3\nLR --> 2 de 6\nTIPO --> 3 de 3\nLR --> 3 de 6\nTIPO --> 1 de 3\nLR --> 3 de 6\nTIPO --> 2 de 3\nLR --> 3 de 6\nTIPO --> 3 de 3\nLR --> 4 de 6\nTIPO --> 1 de 3\nLR --> 4 de 6\nTIPO --> 2 de 3\nLR --> 4 de 6\nTIPO --> 3 de 3\nLR --> 5 de 6\nTIPO --> 1 de 3\nLR --> 5 de 6\nTIPO --> 2 de 3\nLR --> 5 de 6\nTIPO --> 3 de 3\nLR --> 6 de 6\nTIPO --> 1 de 3\nLR --> 6 de 6\nTIPO --> 2 de 3\nLR --> 6 de 6\nTIPO --> 3 de 3\nFin del RRNN (Learning Rate)\nFin prueba modelos!!!!!!!\n"
    }
   ],
   "source": [
    "main()"
   ]
  },
  {
   "cell_type": "code",
   "execution_count": null,
   "metadata": {},
   "outputs": [],
   "source": []
  }
 ],
 "metadata": {
  "kernelspec": {
   "display_name": "Python 3.7.0 64-bit ('tfg': conda)",
   "language": "python",
   "name": "python37064bittfgconda3a3537ca45d749f9a68dd860a63d18da"
  },
  "language_info": {
   "codemirror_mode": {
    "name": "ipython",
    "version": 3
   },
   "file_extension": ".py",
   "mimetype": "text/x-python",
   "name": "python",
   "nbconvert_exporter": "python",
   "pygments_lexer": "ipython3",
   "version": "3.7.0-final"
  }
 },
 "nbformat": 4,
 "nbformat_minor": 4
}
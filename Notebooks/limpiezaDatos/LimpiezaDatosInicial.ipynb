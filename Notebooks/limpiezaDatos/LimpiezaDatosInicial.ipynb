{
 "cells": [
  {
   "cell_type": "code",
   "execution_count": 1,
   "metadata": {},
   "outputs": [],
   "source": [
    "import pandas as pd\n",
    "from sklearn.preprocessing import LabelEncoder\n",
    "\n",
    "pd.set_option('display.max_columns', None)"
   ]
  },
  {
   "cell_type": "code",
   "execution_count": 2,
   "metadata": {},
   "outputs": [],
   "source": [
    "# Cargamos los datos originales del fichero\n",
    "df = pd.read_csv('../data/datasets/data.csv' , sep=';')"
   ]
  },
  {
   "cell_type": "code",
   "execution_count": 3,
   "metadata": {},
   "outputs": [
    {
     "output_type": "execute_result",
     "data": {
      "text/plain": "    id_leg runway operation1 operation2   hexid callsign           time_stamp  \\\n0  fff052a    32R    Landing    Landing  342210  IBE3329  2018-01-01 02:43:52   \n1  ffe804b    32R    Landing    Landing  3424D0   AEA026  2018-01-01 03:24:37   \n2  ffe725d    32R    Landing    Landing  34530C   AEA042  2018-01-01 03:38:12   \n3  ffea19d    32R    Landing    Landing  344211   AEA058  2018-01-01 03:57:16   \n4  ffe781e    32R    Landing    Landing  3422CA   AEA046  2018-01-01 04:05:21   \n\n   altitude  ground_speed  vertical_rate  type origin destination  \\\n0    1625.0         142.0         -768.0  A321    DSS         MAD   \n1    1850.0         137.0         -768.0  A332    VVI         MAD   \n2    2200.0         156.0         -832.0  B788    EZE         MAD   \n3    1862.5         143.0         -640.0  A332    GRU         MAD   \n4    2000.0         136.0         -640.0  A332    MVD         MAD   \n\n  part_date_utc           valid_time  tmp  dew_pt  rel_hum  wind_dir  win_sp  \\\n0    2018-01-01  2018-01-01 02:30:00  7.0     0.0   61.017     250.0  20.372   \n1    2018-01-01  2018-01-01 03:00:00  7.0    -1.0   56.724     250.0  25.928   \n2    2018-01-01  2018-01-01 03:30:00  7.0    -1.0   56.724     230.0  16.668   \n3    2018-01-01  2018-01-01 03:30:00  7.0    -1.0   56.724     230.0  16.668   \n4    2018-01-01  2018-01-01 04:00:00  5.0     0.0   70.063     160.0  12.964   \n\n   wind_gust  visib   press  sky_lvl  rain  snow  drizzle  fog  time_class  \\\n0   0.000000   10.0  1030.0     10.0   0.0   0.0      0.0  0.0         2.0   \n1  44.447962   10.0  1030.0     10.0   0.0   0.0      0.0  0.0         3.0   \n2   0.000000   10.0  1031.0     10.0   0.0   0.0      0.0  0.0         3.0   \n3   0.000000   10.0  1031.0     10.0   0.0   0.0      0.0  0.0         3.0   \n4   0.000000   10.0  1031.0     10.0   0.0   0.0      0.0  0.0         4.0   \n\n   day_week  month  time_ref  \n0       1.0    1.0         6  \n1       1.0    1.0         7  \n2       1.0    1.0         8  \n3       1.0    1.0         8  \n4       1.0    1.0         9  ",
      "text/html": "<div>\n<style scoped>\n    .dataframe tbody tr th:only-of-type {\n        vertical-align: middle;\n    }\n\n    .dataframe tbody tr th {\n        vertical-align: top;\n    }\n\n    .dataframe thead th {\n        text-align: right;\n    }\n</style>\n<table border=\"1\" class=\"dataframe\">\n  <thead>\n    <tr style=\"text-align: right;\">\n      <th></th>\n      <th>id_leg</th>\n      <th>runway</th>\n      <th>operation1</th>\n      <th>operation2</th>\n      <th>hexid</th>\n      <th>callsign</th>\n      <th>time_stamp</th>\n      <th>altitude</th>\n      <th>ground_speed</th>\n      <th>vertical_rate</th>\n      <th>type</th>\n      <th>origin</th>\n      <th>destination</th>\n      <th>part_date_utc</th>\n      <th>valid_time</th>\n      <th>tmp</th>\n      <th>dew_pt</th>\n      <th>rel_hum</th>\n      <th>wind_dir</th>\n      <th>win_sp</th>\n      <th>wind_gust</th>\n      <th>visib</th>\n      <th>press</th>\n      <th>sky_lvl</th>\n      <th>rain</th>\n      <th>snow</th>\n      <th>drizzle</th>\n      <th>fog</th>\n      <th>time_class</th>\n      <th>day_week</th>\n      <th>month</th>\n      <th>time_ref</th>\n    </tr>\n  </thead>\n  <tbody>\n    <tr>\n      <th>0</th>\n      <td>fff052a</td>\n      <td>32R</td>\n      <td>Landing</td>\n      <td>Landing</td>\n      <td>342210</td>\n      <td>IBE3329</td>\n      <td>2018-01-01 02:43:52</td>\n      <td>1625.0</td>\n      <td>142.0</td>\n      <td>-768.0</td>\n      <td>A321</td>\n      <td>DSS</td>\n      <td>MAD</td>\n      <td>2018-01-01</td>\n      <td>2018-01-01 02:30:00</td>\n      <td>7.0</td>\n      <td>0.0</td>\n      <td>61.017</td>\n      <td>250.0</td>\n      <td>20.372</td>\n      <td>0.000000</td>\n      <td>10.0</td>\n      <td>1030.0</td>\n      <td>10.0</td>\n      <td>0.0</td>\n      <td>0.0</td>\n      <td>0.0</td>\n      <td>0.0</td>\n      <td>2.0</td>\n      <td>1.0</td>\n      <td>1.0</td>\n      <td>6</td>\n    </tr>\n    <tr>\n      <th>1</th>\n      <td>ffe804b</td>\n      <td>32R</td>\n      <td>Landing</td>\n      <td>Landing</td>\n      <td>3424D0</td>\n      <td>AEA026</td>\n      <td>2018-01-01 03:24:37</td>\n      <td>1850.0</td>\n      <td>137.0</td>\n      <td>-768.0</td>\n      <td>A332</td>\n      <td>VVI</td>\n      <td>MAD</td>\n      <td>2018-01-01</td>\n      <td>2018-01-01 03:00:00</td>\n      <td>7.0</td>\n      <td>-1.0</td>\n      <td>56.724</td>\n      <td>250.0</td>\n      <td>25.928</td>\n      <td>44.447962</td>\n      <td>10.0</td>\n      <td>1030.0</td>\n      <td>10.0</td>\n      <td>0.0</td>\n      <td>0.0</td>\n      <td>0.0</td>\n      <td>0.0</td>\n      <td>3.0</td>\n      <td>1.0</td>\n      <td>1.0</td>\n      <td>7</td>\n    </tr>\n    <tr>\n      <th>2</th>\n      <td>ffe725d</td>\n      <td>32R</td>\n      <td>Landing</td>\n      <td>Landing</td>\n      <td>34530C</td>\n      <td>AEA042</td>\n      <td>2018-01-01 03:38:12</td>\n      <td>2200.0</td>\n      <td>156.0</td>\n      <td>-832.0</td>\n      <td>B788</td>\n      <td>EZE</td>\n      <td>MAD</td>\n      <td>2018-01-01</td>\n      <td>2018-01-01 03:30:00</td>\n      <td>7.0</td>\n      <td>-1.0</td>\n      <td>56.724</td>\n      <td>230.0</td>\n      <td>16.668</td>\n      <td>0.000000</td>\n      <td>10.0</td>\n      <td>1031.0</td>\n      <td>10.0</td>\n      <td>0.0</td>\n      <td>0.0</td>\n      <td>0.0</td>\n      <td>0.0</td>\n      <td>3.0</td>\n      <td>1.0</td>\n      <td>1.0</td>\n      <td>8</td>\n    </tr>\n    <tr>\n      <th>3</th>\n      <td>ffea19d</td>\n      <td>32R</td>\n      <td>Landing</td>\n      <td>Landing</td>\n      <td>344211</td>\n      <td>AEA058</td>\n      <td>2018-01-01 03:57:16</td>\n      <td>1862.5</td>\n      <td>143.0</td>\n      <td>-640.0</td>\n      <td>A332</td>\n      <td>GRU</td>\n      <td>MAD</td>\n      <td>2018-01-01</td>\n      <td>2018-01-01 03:30:00</td>\n      <td>7.0</td>\n      <td>-1.0</td>\n      <td>56.724</td>\n      <td>230.0</td>\n      <td>16.668</td>\n      <td>0.000000</td>\n      <td>10.0</td>\n      <td>1031.0</td>\n      <td>10.0</td>\n      <td>0.0</td>\n      <td>0.0</td>\n      <td>0.0</td>\n      <td>0.0</td>\n      <td>3.0</td>\n      <td>1.0</td>\n      <td>1.0</td>\n      <td>8</td>\n    </tr>\n    <tr>\n      <th>4</th>\n      <td>ffe781e</td>\n      <td>32R</td>\n      <td>Landing</td>\n      <td>Landing</td>\n      <td>3422CA</td>\n      <td>AEA046</td>\n      <td>2018-01-01 04:05:21</td>\n      <td>2000.0</td>\n      <td>136.0</td>\n      <td>-640.0</td>\n      <td>A332</td>\n      <td>MVD</td>\n      <td>MAD</td>\n      <td>2018-01-01</td>\n      <td>2018-01-01 04:00:00</td>\n      <td>5.0</td>\n      <td>0.0</td>\n      <td>70.063</td>\n      <td>160.0</td>\n      <td>12.964</td>\n      <td>0.000000</td>\n      <td>10.0</td>\n      <td>1031.0</td>\n      <td>10.0</td>\n      <td>0.0</td>\n      <td>0.0</td>\n      <td>0.0</td>\n      <td>0.0</td>\n      <td>4.0</td>\n      <td>1.0</td>\n      <td>1.0</td>\n      <td>9</td>\n    </tr>\n  </tbody>\n</table>\n</div>"
     },
     "metadata": {},
     "execution_count": 3
    }
   ],
   "source": [
    "df.head()"
   ]
  },
  {
   "cell_type": "code",
   "execution_count": 4,
   "metadata": {},
   "outputs": [
    {
     "output_type": "execute_result",
     "data": {
      "text/plain": "(733826, 32)"
     },
     "metadata": {},
     "execution_count": 4
    }
   ],
   "source": [
    "df.shape"
   ]
  },
  {
   "cell_type": "code",
   "execution_count": 5,
   "metadata": {},
   "outputs": [],
   "source": [
    "# Generamos las variables dummy \n",
    "dummy_operation = pd.get_dummies(df['operation1'] , prefix='operation')\n",
    "dummy_runway = pd.get_dummies(df['runway'] , prefix='runway')\n",
    "\n",
    "df = pd.concat([df , dummy_operation , dummy_runway] , axis=1)"
   ]
  },
  {
   "cell_type": "code",
   "execution_count": 6,
   "metadata": {
    "tags": []
   },
   "outputs": [
    {
     "output_type": "stream",
     "name": "stdout",
     "text": "id_leg                     0\nrunway                     1\noperation1                 1\noperation2                 1\nhexid                      1\ncallsign                   2\ntime_stamp                 1\naltitude                   1\nground_speed               1\nvertical_rate              1\ntype                    1039\norigin                  2296\ndestination            34868\npart_date_utc              1\nvalid_time                 1\ntmp                    29968\ndew_pt                 29968\nrel_hum                29968\nwind_dir              110476\nwin_sp                 30002\nwind_gust               3033\nvisib                  32013\npress                  29968\nsky_lvl                 3033\nrain                    3033\nsnow                    3033\ndrizzle                 3033\nfog                     3033\ntime_class                 1\nday_week                   1\nmonth                      1\ntime_ref                   0\noperation_Landing          0\noperation_Take-Off         0\nrunway_14L                 0\nrunway_14R                 0\nrunway_18L                 0\nrunway_18R                 0\nrunway_32L                 0\nrunway_32R                 0\nrunway_36L                 0\nrunway_36R                 0\ndtype: int64\n(733826, 42)\n"
    }
   ],
   "source": [
    "#Comprobamos si tenemos valores desconocidos con el procesamiento anterior\n",
    "print(df.isnull().sum())\n",
    "print(df.shape)"
   ]
  },
  {
   "cell_type": "code",
   "execution_count": 7,
   "metadata": {},
   "outputs": [],
   "source": [
    "# Arreglamos los NAN de los valores climatológicos y los destinos y origenes que no sabemos y borramos los demas registros que tengan nan\n",
    "meteorology_list = ['tmp','dew_pt','rel_hum','wind_dir','win_sp','wind_gust','visib','press','sky_lvl','rain','snow','drizzle','fog']\n",
    "origin_destination = ['origin' , 'destination' , 'type']\n",
    "\n",
    "\n",
    "df[meteorology_list] = df[meteorology_list] = df[meteorology_list].fillna(method='ffill')\n",
    "df[origin_destination] = df[origin_destination].fillna('DESC')\n",
    "\n",
    "#Eliminamos el resto de Nan\n",
    "df = df.dropna(axis=0)"
   ]
  },
  {
   "cell_type": "code",
   "execution_count": 8,
   "metadata": {},
   "outputs": [
    {
     "output_type": "execute_result",
     "data": {
      "text/plain": "    id_leg runway operation1 operation2   hexid callsign           time_stamp  \\\n0  fff052a    32R    Landing    Landing  342210  IBE3329  2018-01-01 02:43:52   \n1  ffe804b    32R    Landing    Landing  3424D0   AEA026  2018-01-01 03:24:37   \n2  ffe725d    32R    Landing    Landing  34530C   AEA042  2018-01-01 03:38:12   \n3  ffea19d    32R    Landing    Landing  344211   AEA058  2018-01-01 03:57:16   \n4  ffe781e    32R    Landing    Landing  3422CA   AEA046  2018-01-01 04:05:21   \n\n   altitude  ground_speed  vertical_rate  type origin destination  \\\n0    1625.0         142.0         -768.0  A321    DSS         MAD   \n1    1850.0         137.0         -768.0  A332    VVI         MAD   \n2    2200.0         156.0         -832.0  B788    EZE         MAD   \n3    1862.5         143.0         -640.0  A332    GRU         MAD   \n4    2000.0         136.0         -640.0  A332    MVD         MAD   \n\n  part_date_utc           valid_time  tmp  dew_pt  rel_hum  wind_dir  win_sp  \\\n0    2018-01-01  2018-01-01 02:30:00  7.0     0.0   61.017     250.0  20.372   \n1    2018-01-01  2018-01-01 03:00:00  7.0    -1.0   56.724     250.0  25.928   \n2    2018-01-01  2018-01-01 03:30:00  7.0    -1.0   56.724     230.0  16.668   \n3    2018-01-01  2018-01-01 03:30:00  7.0    -1.0   56.724     230.0  16.668   \n4    2018-01-01  2018-01-01 04:00:00  5.0     0.0   70.063     160.0  12.964   \n\n   wind_gust  visib   press  sky_lvl  rain  snow  drizzle  fog  time_class  \\\n0   0.000000   10.0  1030.0     10.0   0.0   0.0      0.0  0.0         2.0   \n1  44.447962   10.0  1030.0     10.0   0.0   0.0      0.0  0.0         3.0   \n2   0.000000   10.0  1031.0     10.0   0.0   0.0      0.0  0.0         3.0   \n3   0.000000   10.0  1031.0     10.0   0.0   0.0      0.0  0.0         3.0   \n4   0.000000   10.0  1031.0     10.0   0.0   0.0      0.0  0.0         4.0   \n\n   day_week  month  time_ref  operation_Landing  operation_Take-Off  \\\n0       1.0    1.0         6                  1                   0   \n1       1.0    1.0         7                  1                   0   \n2       1.0    1.0         8                  1                   0   \n3       1.0    1.0         8                  1                   0   \n4       1.0    1.0         9                  1                   0   \n\n   runway_14L  runway_14R  runway_18L  runway_18R  runway_32L  runway_32R  \\\n0           0           0           0           0           0           1   \n1           0           0           0           0           0           1   \n2           0           0           0           0           0           1   \n3           0           0           0           0           0           1   \n4           0           0           0           0           0           1   \n\n   runway_36L  runway_36R  \n0           0           0  \n1           0           0  \n2           0           0  \n3           0           0  \n4           0           0  ",
      "text/html": "<div>\n<style scoped>\n    .dataframe tbody tr th:only-of-type {\n        vertical-align: middle;\n    }\n\n    .dataframe tbody tr th {\n        vertical-align: top;\n    }\n\n    .dataframe thead th {\n        text-align: right;\n    }\n</style>\n<table border=\"1\" class=\"dataframe\">\n  <thead>\n    <tr style=\"text-align: right;\">\n      <th></th>\n      <th>id_leg</th>\n      <th>runway</th>\n      <th>operation1</th>\n      <th>operation2</th>\n      <th>hexid</th>\n      <th>callsign</th>\n      <th>time_stamp</th>\n      <th>altitude</th>\n      <th>ground_speed</th>\n      <th>vertical_rate</th>\n      <th>type</th>\n      <th>origin</th>\n      <th>destination</th>\n      <th>part_date_utc</th>\n      <th>valid_time</th>\n      <th>tmp</th>\n      <th>dew_pt</th>\n      <th>rel_hum</th>\n      <th>wind_dir</th>\n      <th>win_sp</th>\n      <th>wind_gust</th>\n      <th>visib</th>\n      <th>press</th>\n      <th>sky_lvl</th>\n      <th>rain</th>\n      <th>snow</th>\n      <th>drizzle</th>\n      <th>fog</th>\n      <th>time_class</th>\n      <th>day_week</th>\n      <th>month</th>\n      <th>time_ref</th>\n      <th>operation_Landing</th>\n      <th>operation_Take-Off</th>\n      <th>runway_14L</th>\n      <th>runway_14R</th>\n      <th>runway_18L</th>\n      <th>runway_18R</th>\n      <th>runway_32L</th>\n      <th>runway_32R</th>\n      <th>runway_36L</th>\n      <th>runway_36R</th>\n    </tr>\n  </thead>\n  <tbody>\n    <tr>\n      <th>0</th>\n      <td>fff052a</td>\n      <td>32R</td>\n      <td>Landing</td>\n      <td>Landing</td>\n      <td>342210</td>\n      <td>IBE3329</td>\n      <td>2018-01-01 02:43:52</td>\n      <td>1625.0</td>\n      <td>142.0</td>\n      <td>-768.0</td>\n      <td>A321</td>\n      <td>DSS</td>\n      <td>MAD</td>\n      <td>2018-01-01</td>\n      <td>2018-01-01 02:30:00</td>\n      <td>7.0</td>\n      <td>0.0</td>\n      <td>61.017</td>\n      <td>250.0</td>\n      <td>20.372</td>\n      <td>0.000000</td>\n      <td>10.0</td>\n      <td>1030.0</td>\n      <td>10.0</td>\n      <td>0.0</td>\n      <td>0.0</td>\n      <td>0.0</td>\n      <td>0.0</td>\n      <td>2.0</td>\n      <td>1.0</td>\n      <td>1.0</td>\n      <td>6</td>\n      <td>1</td>\n      <td>0</td>\n      <td>0</td>\n      <td>0</td>\n      <td>0</td>\n      <td>0</td>\n      <td>0</td>\n      <td>1</td>\n      <td>0</td>\n      <td>0</td>\n    </tr>\n    <tr>\n      <th>1</th>\n      <td>ffe804b</td>\n      <td>32R</td>\n      <td>Landing</td>\n      <td>Landing</td>\n      <td>3424D0</td>\n      <td>AEA026</td>\n      <td>2018-01-01 03:24:37</td>\n      <td>1850.0</td>\n      <td>137.0</td>\n      <td>-768.0</td>\n      <td>A332</td>\n      <td>VVI</td>\n      <td>MAD</td>\n      <td>2018-01-01</td>\n      <td>2018-01-01 03:00:00</td>\n      <td>7.0</td>\n      <td>-1.0</td>\n      <td>56.724</td>\n      <td>250.0</td>\n      <td>25.928</td>\n      <td>44.447962</td>\n      <td>10.0</td>\n      <td>1030.0</td>\n      <td>10.0</td>\n      <td>0.0</td>\n      <td>0.0</td>\n      <td>0.0</td>\n      <td>0.0</td>\n      <td>3.0</td>\n      <td>1.0</td>\n      <td>1.0</td>\n      <td>7</td>\n      <td>1</td>\n      <td>0</td>\n      <td>0</td>\n      <td>0</td>\n      <td>0</td>\n      <td>0</td>\n      <td>0</td>\n      <td>1</td>\n      <td>0</td>\n      <td>0</td>\n    </tr>\n    <tr>\n      <th>2</th>\n      <td>ffe725d</td>\n      <td>32R</td>\n      <td>Landing</td>\n      <td>Landing</td>\n      <td>34530C</td>\n      <td>AEA042</td>\n      <td>2018-01-01 03:38:12</td>\n      <td>2200.0</td>\n      <td>156.0</td>\n      <td>-832.0</td>\n      <td>B788</td>\n      <td>EZE</td>\n      <td>MAD</td>\n      <td>2018-01-01</td>\n      <td>2018-01-01 03:30:00</td>\n      <td>7.0</td>\n      <td>-1.0</td>\n      <td>56.724</td>\n      <td>230.0</td>\n      <td>16.668</td>\n      <td>0.000000</td>\n      <td>10.0</td>\n      <td>1031.0</td>\n      <td>10.0</td>\n      <td>0.0</td>\n      <td>0.0</td>\n      <td>0.0</td>\n      <td>0.0</td>\n      <td>3.0</td>\n      <td>1.0</td>\n      <td>1.0</td>\n      <td>8</td>\n      <td>1</td>\n      <td>0</td>\n      <td>0</td>\n      <td>0</td>\n      <td>0</td>\n      <td>0</td>\n      <td>0</td>\n      <td>1</td>\n      <td>0</td>\n      <td>0</td>\n    </tr>\n    <tr>\n      <th>3</th>\n      <td>ffea19d</td>\n      <td>32R</td>\n      <td>Landing</td>\n      <td>Landing</td>\n      <td>344211</td>\n      <td>AEA058</td>\n      <td>2018-01-01 03:57:16</td>\n      <td>1862.5</td>\n      <td>143.0</td>\n      <td>-640.0</td>\n      <td>A332</td>\n      <td>GRU</td>\n      <td>MAD</td>\n      <td>2018-01-01</td>\n      <td>2018-01-01 03:30:00</td>\n      <td>7.0</td>\n      <td>-1.0</td>\n      <td>56.724</td>\n      <td>230.0</td>\n      <td>16.668</td>\n      <td>0.000000</td>\n      <td>10.0</td>\n      <td>1031.0</td>\n      <td>10.0</td>\n      <td>0.0</td>\n      <td>0.0</td>\n      <td>0.0</td>\n      <td>0.0</td>\n      <td>3.0</td>\n      <td>1.0</td>\n      <td>1.0</td>\n      <td>8</td>\n      <td>1</td>\n      <td>0</td>\n      <td>0</td>\n      <td>0</td>\n      <td>0</td>\n      <td>0</td>\n      <td>0</td>\n      <td>1</td>\n      <td>0</td>\n      <td>0</td>\n    </tr>\n    <tr>\n      <th>4</th>\n      <td>ffe781e</td>\n      <td>32R</td>\n      <td>Landing</td>\n      <td>Landing</td>\n      <td>3422CA</td>\n      <td>AEA046</td>\n      <td>2018-01-01 04:05:21</td>\n      <td>2000.0</td>\n      <td>136.0</td>\n      <td>-640.0</td>\n      <td>A332</td>\n      <td>MVD</td>\n      <td>MAD</td>\n      <td>2018-01-01</td>\n      <td>2018-01-01 04:00:00</td>\n      <td>5.0</td>\n      <td>0.0</td>\n      <td>70.063</td>\n      <td>160.0</td>\n      <td>12.964</td>\n      <td>0.000000</td>\n      <td>10.0</td>\n      <td>1031.0</td>\n      <td>10.0</td>\n      <td>0.0</td>\n      <td>0.0</td>\n      <td>0.0</td>\n      <td>0.0</td>\n      <td>4.0</td>\n      <td>1.0</td>\n      <td>1.0</td>\n      <td>9</td>\n      <td>1</td>\n      <td>0</td>\n      <td>0</td>\n      <td>0</td>\n      <td>0</td>\n      <td>0</td>\n      <td>0</td>\n      <td>1</td>\n      <td>0</td>\n      <td>0</td>\n    </tr>\n  </tbody>\n</table>\n</div>"
     },
     "metadata": {},
     "execution_count": 8
    }
   ],
   "source": [
    "df.head()"
   ]
  },
  {
   "cell_type": "code",
   "execution_count": 9,
   "metadata": {
    "tags": []
   },
   "outputs": [
    {
     "output_type": "stream",
     "name": "stdout",
     "text": "id_leg                0\nrunway                0\noperation1            0\noperation2            0\nhexid                 0\ncallsign              0\ntime_stamp            0\naltitude              0\nground_speed          0\nvertical_rate         0\ntype                  0\norigin                0\ndestination           0\npart_date_utc         0\nvalid_time            0\ntmp                   0\ndew_pt                0\nrel_hum               0\nwind_dir              0\nwin_sp                0\nwind_gust             0\nvisib                 0\npress                 0\nsky_lvl               0\nrain                  0\nsnow                  0\ndrizzle               0\nfog                   0\ntime_class            0\nday_week              0\nmonth                 0\ntime_ref              0\noperation_Landing     0\noperation_Take-Off    0\nrunway_14L            0\nrunway_14R            0\nrunway_18L            0\nrunway_18R            0\nrunway_32L            0\nrunway_32R            0\nrunway_36L            0\nrunway_36R            0\ndtype: int64\n(733824, 42)\n"
    }
   ],
   "source": [
    "#Comprobamos si tenemos valores desconocidos con el procesamiento anterior\n",
    "print(df.isnull().sum())\n",
    "print(df.shape)"
   ]
  },
  {
   "cell_type": "code",
   "execution_count": 10,
   "metadata": {},
   "outputs": [],
   "source": [
    "# Realizamos la codificación basada en etiquetas\n",
    "columns_to_encoder = ['id_leg','operation1','hexid','callsign','type','origin','destination','runway']\n",
    "X = df[columns_to_encoder].values\n",
    "encoder = LabelEncoder()\n",
    "new_columns = []\n",
    "for i , value in enumerate(columns_to_encoder):\n",
    "    X[:,i] = encoder.fit_transform(X[:,i])\n",
    "    X[:,i] = encoder.fit_transform(X[:,i])\n",
    "    X[:,i] = encoder.fit_transform(X[:,i])\n",
    "    new_columns.append(value + \"NORM\")\n",
    "\n",
    "aux = pd.DataFrame(data=X , columns=new_columns)\n",
    "df = pd.concat([df , aux] , axis=1)\n",
    "df = df.dropna(axis=0)"
   ]
  },
  {
   "cell_type": "code",
   "execution_count": 11,
   "metadata": {},
   "outputs": [
    {
     "output_type": "execute_result",
     "data": {
      "text/plain": "(733822, 50)"
     },
     "metadata": {},
     "execution_count": 11
    }
   ],
   "source": [
    "df.shape"
   ]
  },
  {
   "cell_type": "code",
   "execution_count": 12,
   "metadata": {},
   "outputs": [
    {
     "output_type": "execute_result",
     "data": {
      "text/plain": "    id_leg runway operation1 operation2   hexid callsign           time_stamp  \\\n0  fff052a    32R    Landing    Landing  342210  IBE3329  2018-01-01 02:43:52   \n1  ffe804b    32R    Landing    Landing  3424D0   AEA026  2018-01-01 03:24:37   \n2  ffe725d    32R    Landing    Landing  34530C   AEA042  2018-01-01 03:38:12   \n3  ffea19d    32R    Landing    Landing  344211   AEA058  2018-01-01 03:57:16   \n4  ffe781e    32R    Landing    Landing  3422CA   AEA046  2018-01-01 04:05:21   \n\n   altitude  ground_speed  vertical_rate  type origin destination  \\\n0    1625.0         142.0         -768.0  A321    DSS         MAD   \n1    1850.0         137.0         -768.0  A332    VVI         MAD   \n2    2200.0         156.0         -832.0  B788    EZE         MAD   \n3    1862.5         143.0         -640.0  A332    GRU         MAD   \n4    2000.0         136.0         -640.0  A332    MVD         MAD   \n\n  part_date_utc           valid_time  tmp  dew_pt  rel_hum  wind_dir  win_sp  \\\n0    2018-01-01  2018-01-01 02:30:00  7.0     0.0   61.017     250.0  20.372   \n1    2018-01-01  2018-01-01 03:00:00  7.0    -1.0   56.724     250.0  25.928   \n2    2018-01-01  2018-01-01 03:30:00  7.0    -1.0   56.724     230.0  16.668   \n3    2018-01-01  2018-01-01 03:30:00  7.0    -1.0   56.724     230.0  16.668   \n4    2018-01-01  2018-01-01 04:00:00  5.0     0.0   70.063     160.0  12.964   \n\n   wind_gust  visib   press  sky_lvl  rain  snow  drizzle  fog  time_class  \\\n0   0.000000   10.0  1030.0     10.0   0.0   0.0      0.0  0.0         2.0   \n1  44.447962   10.0  1030.0     10.0   0.0   0.0      0.0  0.0         3.0   \n2   0.000000   10.0  1031.0     10.0   0.0   0.0      0.0  0.0         3.0   \n3   0.000000   10.0  1031.0     10.0   0.0   0.0      0.0  0.0         3.0   \n4   0.000000   10.0  1031.0     10.0   0.0   0.0      0.0  0.0         4.0   \n\n   day_week  month  time_ref  operation_Landing  operation_Take-Off  \\\n0       1.0    1.0       6.0                1.0                 0.0   \n1       1.0    1.0       7.0                1.0                 0.0   \n2       1.0    1.0       8.0                1.0                 0.0   \n3       1.0    1.0       8.0                1.0                 0.0   \n4       1.0    1.0       9.0                1.0                 0.0   \n\n   runway_14L  runway_14R  runway_18L  runway_18R  runway_32L  runway_32R  \\\n0         0.0         0.0         0.0         0.0         0.0         1.0   \n1         0.0         0.0         0.0         0.0         0.0         1.0   \n2         0.0         0.0         0.0         0.0         0.0         1.0   \n3         0.0         0.0         0.0         0.0         0.0         1.0   \n4         0.0         0.0         0.0         0.0         0.0         1.0   \n\n   runway_36L  runway_36R id_legNORM operation1NORM hexidNORM callsignNORM  \\\n0         0.0         0.0     733513              0       483         6920   \n1         0.0         0.0     733498              0       515          246   \n2         0.0         0.0     733495              0       814          262   \n3         0.0         0.0     733501              0       625          277   \n4         0.0         0.0     733496              0       491          268   \n\n  typeNORM originNORM destinationNORM runwayNORM  \n0       22        186             268          5  \n1       23        664             268          5  \n2       67        212             268          5  \n3       23        254             268          5  \n4       23        421             268          5  ",
      "text/html": "<div>\n<style scoped>\n    .dataframe tbody tr th:only-of-type {\n        vertical-align: middle;\n    }\n\n    .dataframe tbody tr th {\n        vertical-align: top;\n    }\n\n    .dataframe thead th {\n        text-align: right;\n    }\n</style>\n<table border=\"1\" class=\"dataframe\">\n  <thead>\n    <tr style=\"text-align: right;\">\n      <th></th>\n      <th>id_leg</th>\n      <th>runway</th>\n      <th>operation1</th>\n      <th>operation2</th>\n      <th>hexid</th>\n      <th>callsign</th>\n      <th>time_stamp</th>\n      <th>altitude</th>\n      <th>ground_speed</th>\n      <th>vertical_rate</th>\n      <th>type</th>\n      <th>origin</th>\n      <th>destination</th>\n      <th>part_date_utc</th>\n      <th>valid_time</th>\n      <th>tmp</th>\n      <th>dew_pt</th>\n      <th>rel_hum</th>\n      <th>wind_dir</th>\n      <th>win_sp</th>\n      <th>wind_gust</th>\n      <th>visib</th>\n      <th>press</th>\n      <th>sky_lvl</th>\n      <th>rain</th>\n      <th>snow</th>\n      <th>drizzle</th>\n      <th>fog</th>\n      <th>time_class</th>\n      <th>day_week</th>\n      <th>month</th>\n      <th>time_ref</th>\n      <th>operation_Landing</th>\n      <th>operation_Take-Off</th>\n      <th>runway_14L</th>\n      <th>runway_14R</th>\n      <th>runway_18L</th>\n      <th>runway_18R</th>\n      <th>runway_32L</th>\n      <th>runway_32R</th>\n      <th>runway_36L</th>\n      <th>runway_36R</th>\n      <th>id_legNORM</th>\n      <th>operation1NORM</th>\n      <th>hexidNORM</th>\n      <th>callsignNORM</th>\n      <th>typeNORM</th>\n      <th>originNORM</th>\n      <th>destinationNORM</th>\n      <th>runwayNORM</th>\n    </tr>\n  </thead>\n  <tbody>\n    <tr>\n      <th>0</th>\n      <td>fff052a</td>\n      <td>32R</td>\n      <td>Landing</td>\n      <td>Landing</td>\n      <td>342210</td>\n      <td>IBE3329</td>\n      <td>2018-01-01 02:43:52</td>\n      <td>1625.0</td>\n      <td>142.0</td>\n      <td>-768.0</td>\n      <td>A321</td>\n      <td>DSS</td>\n      <td>MAD</td>\n      <td>2018-01-01</td>\n      <td>2018-01-01 02:30:00</td>\n      <td>7.0</td>\n      <td>0.0</td>\n      <td>61.017</td>\n      <td>250.0</td>\n      <td>20.372</td>\n      <td>0.000000</td>\n      <td>10.0</td>\n      <td>1030.0</td>\n      <td>10.0</td>\n      <td>0.0</td>\n      <td>0.0</td>\n      <td>0.0</td>\n      <td>0.0</td>\n      <td>2.0</td>\n      <td>1.0</td>\n      <td>1.0</td>\n      <td>6.0</td>\n      <td>1.0</td>\n      <td>0.0</td>\n      <td>0.0</td>\n      <td>0.0</td>\n      <td>0.0</td>\n      <td>0.0</td>\n      <td>0.0</td>\n      <td>1.0</td>\n      <td>0.0</td>\n      <td>0.0</td>\n      <td>733513</td>\n      <td>0</td>\n      <td>483</td>\n      <td>6920</td>\n      <td>22</td>\n      <td>186</td>\n      <td>268</td>\n      <td>5</td>\n    </tr>\n    <tr>\n      <th>1</th>\n      <td>ffe804b</td>\n      <td>32R</td>\n      <td>Landing</td>\n      <td>Landing</td>\n      <td>3424D0</td>\n      <td>AEA026</td>\n      <td>2018-01-01 03:24:37</td>\n      <td>1850.0</td>\n      <td>137.0</td>\n      <td>-768.0</td>\n      <td>A332</td>\n      <td>VVI</td>\n      <td>MAD</td>\n      <td>2018-01-01</td>\n      <td>2018-01-01 03:00:00</td>\n      <td>7.0</td>\n      <td>-1.0</td>\n      <td>56.724</td>\n      <td>250.0</td>\n      <td>25.928</td>\n      <td>44.447962</td>\n      <td>10.0</td>\n      <td>1030.0</td>\n      <td>10.0</td>\n      <td>0.0</td>\n      <td>0.0</td>\n      <td>0.0</td>\n      <td>0.0</td>\n      <td>3.0</td>\n      <td>1.0</td>\n      <td>1.0</td>\n      <td>7.0</td>\n      <td>1.0</td>\n      <td>0.0</td>\n      <td>0.0</td>\n      <td>0.0</td>\n      <td>0.0</td>\n      <td>0.0</td>\n      <td>0.0</td>\n      <td>1.0</td>\n      <td>0.0</td>\n      <td>0.0</td>\n      <td>733498</td>\n      <td>0</td>\n      <td>515</td>\n      <td>246</td>\n      <td>23</td>\n      <td>664</td>\n      <td>268</td>\n      <td>5</td>\n    </tr>\n    <tr>\n      <th>2</th>\n      <td>ffe725d</td>\n      <td>32R</td>\n      <td>Landing</td>\n      <td>Landing</td>\n      <td>34530C</td>\n      <td>AEA042</td>\n      <td>2018-01-01 03:38:12</td>\n      <td>2200.0</td>\n      <td>156.0</td>\n      <td>-832.0</td>\n      <td>B788</td>\n      <td>EZE</td>\n      <td>MAD</td>\n      <td>2018-01-01</td>\n      <td>2018-01-01 03:30:00</td>\n      <td>7.0</td>\n      <td>-1.0</td>\n      <td>56.724</td>\n      <td>230.0</td>\n      <td>16.668</td>\n      <td>0.000000</td>\n      <td>10.0</td>\n      <td>1031.0</td>\n      <td>10.0</td>\n      <td>0.0</td>\n      <td>0.0</td>\n      <td>0.0</td>\n      <td>0.0</td>\n      <td>3.0</td>\n      <td>1.0</td>\n      <td>1.0</td>\n      <td>8.0</td>\n      <td>1.0</td>\n      <td>0.0</td>\n      <td>0.0</td>\n      <td>0.0</td>\n      <td>0.0</td>\n      <td>0.0</td>\n      <td>0.0</td>\n      <td>1.0</td>\n      <td>0.0</td>\n      <td>0.0</td>\n      <td>733495</td>\n      <td>0</td>\n      <td>814</td>\n      <td>262</td>\n      <td>67</td>\n      <td>212</td>\n      <td>268</td>\n      <td>5</td>\n    </tr>\n    <tr>\n      <th>3</th>\n      <td>ffea19d</td>\n      <td>32R</td>\n      <td>Landing</td>\n      <td>Landing</td>\n      <td>344211</td>\n      <td>AEA058</td>\n      <td>2018-01-01 03:57:16</td>\n      <td>1862.5</td>\n      <td>143.0</td>\n      <td>-640.0</td>\n      <td>A332</td>\n      <td>GRU</td>\n      <td>MAD</td>\n      <td>2018-01-01</td>\n      <td>2018-01-01 03:30:00</td>\n      <td>7.0</td>\n      <td>-1.0</td>\n      <td>56.724</td>\n      <td>230.0</td>\n      <td>16.668</td>\n      <td>0.000000</td>\n      <td>10.0</td>\n      <td>1031.0</td>\n      <td>10.0</td>\n      <td>0.0</td>\n      <td>0.0</td>\n      <td>0.0</td>\n      <td>0.0</td>\n      <td>3.0</td>\n      <td>1.0</td>\n      <td>1.0</td>\n      <td>8.0</td>\n      <td>1.0</td>\n      <td>0.0</td>\n      <td>0.0</td>\n      <td>0.0</td>\n      <td>0.0</td>\n      <td>0.0</td>\n      <td>0.0</td>\n      <td>1.0</td>\n      <td>0.0</td>\n      <td>0.0</td>\n      <td>733501</td>\n      <td>0</td>\n      <td>625</td>\n      <td>277</td>\n      <td>23</td>\n      <td>254</td>\n      <td>268</td>\n      <td>5</td>\n    </tr>\n    <tr>\n      <th>4</th>\n      <td>ffe781e</td>\n      <td>32R</td>\n      <td>Landing</td>\n      <td>Landing</td>\n      <td>3422CA</td>\n      <td>AEA046</td>\n      <td>2018-01-01 04:05:21</td>\n      <td>2000.0</td>\n      <td>136.0</td>\n      <td>-640.0</td>\n      <td>A332</td>\n      <td>MVD</td>\n      <td>MAD</td>\n      <td>2018-01-01</td>\n      <td>2018-01-01 04:00:00</td>\n      <td>5.0</td>\n      <td>0.0</td>\n      <td>70.063</td>\n      <td>160.0</td>\n      <td>12.964</td>\n      <td>0.000000</td>\n      <td>10.0</td>\n      <td>1031.0</td>\n      <td>10.0</td>\n      <td>0.0</td>\n      <td>0.0</td>\n      <td>0.0</td>\n      <td>0.0</td>\n      <td>4.0</td>\n      <td>1.0</td>\n      <td>1.0</td>\n      <td>9.0</td>\n      <td>1.0</td>\n      <td>0.0</td>\n      <td>0.0</td>\n      <td>0.0</td>\n      <td>0.0</td>\n      <td>0.0</td>\n      <td>0.0</td>\n      <td>1.0</td>\n      <td>0.0</td>\n      <td>0.0</td>\n      <td>733496</td>\n      <td>0</td>\n      <td>491</td>\n      <td>268</td>\n      <td>23</td>\n      <td>421</td>\n      <td>268</td>\n      <td>5</td>\n    </tr>\n  </tbody>\n</table>\n</div>"
     },
     "metadata": {},
     "execution_count": 12
    }
   ],
   "source": [
    "df.head()"
   ]
  },
  {
   "cell_type": "code",
   "execution_count": 13,
   "metadata": {},
   "outputs": [
    {
     "output_type": "execute_result",
     "data": {
      "text/plain": "id_leg                0\nrunway                0\noperation1            0\noperation2            0\nhexid                 0\ncallsign              0\ntime_stamp            0\naltitude              0\nground_speed          0\nvertical_rate         0\ntype                  0\norigin                0\ndestination           0\npart_date_utc         0\nvalid_time            0\ntmp                   0\ndew_pt                0\nrel_hum               0\nwind_dir              0\nwin_sp                0\nwind_gust             0\nvisib                 0\npress                 0\nsky_lvl               0\nrain                  0\nsnow                  0\ndrizzle               0\nfog                   0\ntime_class            0\nday_week              0\nmonth                 0\ntime_ref              0\noperation_Landing     0\noperation_Take-Off    0\nrunway_14L            0\nrunway_14R            0\nrunway_18L            0\nrunway_18R            0\nrunway_32L            0\nrunway_32R            0\nrunway_36L            0\nrunway_36R            0\nid_legNORM            0\noperation1NORM        0\nhexidNORM             0\ncallsignNORM          0\ntypeNORM              0\noriginNORM            0\ndestinationNORM       0\nrunwayNORM            0\ndtype: int64"
     },
     "metadata": {},
     "execution_count": 14
    }
   ],
   "source": [
    "df.isnull().sum(axis = 0)"
   ]
  },
  {
   "cell_type": "code",
   "execution_count": 14,
   "metadata": {},
   "outputs": [
    {
     "output_type": "execute_result",
     "data": {
      "text/plain": "    id_leg runway operation1 operation2   hexid callsign           time_stamp  \\\n0  fff052a    32R    Landing    Landing  342210  IBE3329  2018-01-01 02:43:52   \n1  ffe804b    32R    Landing    Landing  3424D0   AEA026  2018-01-01 03:24:37   \n2  ffe725d    32R    Landing    Landing  34530C   AEA042  2018-01-01 03:38:12   \n3  ffea19d    32R    Landing    Landing  344211   AEA058  2018-01-01 03:57:16   \n4  ffe781e    32R    Landing    Landing  3422CA   AEA046  2018-01-01 04:05:21   \n\n   altitude  ground_speed  vertical_rate  type origin destination  \\\n0    1625.0         142.0         -768.0  A321    DSS         MAD   \n1    1850.0         137.0         -768.0  A332    VVI         MAD   \n2    2200.0         156.0         -832.0  B788    EZE         MAD   \n3    1862.5         143.0         -640.0  A332    GRU         MAD   \n4    2000.0         136.0         -640.0  A332    MVD         MAD   \n\n  part_date_utc           valid_time  tmp  dew_pt  rel_hum  wind_dir  win_sp  \\\n0    2018-01-01  2018-01-01 02:30:00  7.0     0.0   61.017     250.0  20.372   \n1    2018-01-01  2018-01-01 03:00:00  7.0    -1.0   56.724     250.0  25.928   \n2    2018-01-01  2018-01-01 03:30:00  7.0    -1.0   56.724     230.0  16.668   \n3    2018-01-01  2018-01-01 03:30:00  7.0    -1.0   56.724     230.0  16.668   \n4    2018-01-01  2018-01-01 04:00:00  5.0     0.0   70.063     160.0  12.964   \n\n   wind_gust  visib   press  sky_lvl  rain  snow  drizzle  fog  time_class  \\\n0   0.000000   10.0  1030.0     10.0   0.0   0.0      0.0  0.0         2.0   \n1  44.447962   10.0  1030.0     10.0   0.0   0.0      0.0  0.0         3.0   \n2   0.000000   10.0  1031.0     10.0   0.0   0.0      0.0  0.0         3.0   \n3   0.000000   10.0  1031.0     10.0   0.0   0.0      0.0  0.0         3.0   \n4   0.000000   10.0  1031.0     10.0   0.0   0.0      0.0  0.0         4.0   \n\n   day_week  month  time_ref id_legNORM operationNORM hexidNORM callsignNORM  \\\n0       1.0    1.0       6.0     733513             0       483         6920   \n1       1.0    1.0       7.0     733498             0       515          246   \n2       1.0    1.0       8.0     733495             0       814          262   \n3       1.0    1.0       8.0     733501             0       625          277   \n4       1.0    1.0       9.0     733496             0       491          268   \n\n  typeNORM originNORM destinationNORM  operation_Landing  operation_Take-Off  \\\n0       22        186             268                1.0                 0.0   \n1       23        664             268                1.0                 0.0   \n2       67        212             268                1.0                 0.0   \n3       23        254             268                1.0                 0.0   \n4       23        421             268                1.0                 0.0   \n\n   runway_14L  runway_14R  runway_18L  runway_18R  runway_32L  runway_32R  \\\n0         0.0         0.0         0.0         0.0         0.0         1.0   \n1         0.0         0.0         0.0         0.0         0.0         1.0   \n2         0.0         0.0         0.0         0.0         0.0         1.0   \n3         0.0         0.0         0.0         0.0         0.0         1.0   \n4         0.0         0.0         0.0         0.0         0.0         1.0   \n\n   runway_36L  runway_36R runwayNORM  \n0         0.0         0.0          5  \n1         0.0         0.0          5  \n2         0.0         0.0          5  \n3         0.0         0.0          5  \n4         0.0         0.0          5  ",
      "text/html": "<div>\n<style scoped>\n    .dataframe tbody tr th:only-of-type {\n        vertical-align: middle;\n    }\n\n    .dataframe tbody tr th {\n        vertical-align: top;\n    }\n\n    .dataframe thead th {\n        text-align: right;\n    }\n</style>\n<table border=\"1\" class=\"dataframe\">\n  <thead>\n    <tr style=\"text-align: right;\">\n      <th></th>\n      <th>id_leg</th>\n      <th>runway</th>\n      <th>operation1</th>\n      <th>operation2</th>\n      <th>hexid</th>\n      <th>callsign</th>\n      <th>time_stamp</th>\n      <th>altitude</th>\n      <th>ground_speed</th>\n      <th>vertical_rate</th>\n      <th>type</th>\n      <th>origin</th>\n      <th>destination</th>\n      <th>part_date_utc</th>\n      <th>valid_time</th>\n      <th>tmp</th>\n      <th>dew_pt</th>\n      <th>rel_hum</th>\n      <th>wind_dir</th>\n      <th>win_sp</th>\n      <th>wind_gust</th>\n      <th>visib</th>\n      <th>press</th>\n      <th>sky_lvl</th>\n      <th>rain</th>\n      <th>snow</th>\n      <th>drizzle</th>\n      <th>fog</th>\n      <th>time_class</th>\n      <th>day_week</th>\n      <th>month</th>\n      <th>time_ref</th>\n      <th>id_legNORM</th>\n      <th>operationNORM</th>\n      <th>hexidNORM</th>\n      <th>callsignNORM</th>\n      <th>typeNORM</th>\n      <th>originNORM</th>\n      <th>destinationNORM</th>\n      <th>operation_Landing</th>\n      <th>operation_Take-Off</th>\n      <th>runway_14L</th>\n      <th>runway_14R</th>\n      <th>runway_18L</th>\n      <th>runway_18R</th>\n      <th>runway_32L</th>\n      <th>runway_32R</th>\n      <th>runway_36L</th>\n      <th>runway_36R</th>\n      <th>runwayNORM</th>\n    </tr>\n  </thead>\n  <tbody>\n    <tr>\n      <th>0</th>\n      <td>fff052a</td>\n      <td>32R</td>\n      <td>Landing</td>\n      <td>Landing</td>\n      <td>342210</td>\n      <td>IBE3329</td>\n      <td>2018-01-01 02:43:52</td>\n      <td>1625.0</td>\n      <td>142.0</td>\n      <td>-768.0</td>\n      <td>A321</td>\n      <td>DSS</td>\n      <td>MAD</td>\n      <td>2018-01-01</td>\n      <td>2018-01-01 02:30:00</td>\n      <td>7.0</td>\n      <td>0.0</td>\n      <td>61.017</td>\n      <td>250.0</td>\n      <td>20.372</td>\n      <td>0.000000</td>\n      <td>10.0</td>\n      <td>1030.0</td>\n      <td>10.0</td>\n      <td>0.0</td>\n      <td>0.0</td>\n      <td>0.0</td>\n      <td>0.0</td>\n      <td>2.0</td>\n      <td>1.0</td>\n      <td>1.0</td>\n      <td>6.0</td>\n      <td>733513</td>\n      <td>0</td>\n      <td>483</td>\n      <td>6920</td>\n      <td>22</td>\n      <td>186</td>\n      <td>268</td>\n      <td>1.0</td>\n      <td>0.0</td>\n      <td>0.0</td>\n      <td>0.0</td>\n      <td>0.0</td>\n      <td>0.0</td>\n      <td>0.0</td>\n      <td>1.0</td>\n      <td>0.0</td>\n      <td>0.0</td>\n      <td>5</td>\n    </tr>\n    <tr>\n      <th>1</th>\n      <td>ffe804b</td>\n      <td>32R</td>\n      <td>Landing</td>\n      <td>Landing</td>\n      <td>3424D0</td>\n      <td>AEA026</td>\n      <td>2018-01-01 03:24:37</td>\n      <td>1850.0</td>\n      <td>137.0</td>\n      <td>-768.0</td>\n      <td>A332</td>\n      <td>VVI</td>\n      <td>MAD</td>\n      <td>2018-01-01</td>\n      <td>2018-01-01 03:00:00</td>\n      <td>7.0</td>\n      <td>-1.0</td>\n      <td>56.724</td>\n      <td>250.0</td>\n      <td>25.928</td>\n      <td>44.447962</td>\n      <td>10.0</td>\n      <td>1030.0</td>\n      <td>10.0</td>\n      <td>0.0</td>\n      <td>0.0</td>\n      <td>0.0</td>\n      <td>0.0</td>\n      <td>3.0</td>\n      <td>1.0</td>\n      <td>1.0</td>\n      <td>7.0</td>\n      <td>733498</td>\n      <td>0</td>\n      <td>515</td>\n      <td>246</td>\n      <td>23</td>\n      <td>664</td>\n      <td>268</td>\n      <td>1.0</td>\n      <td>0.0</td>\n      <td>0.0</td>\n      <td>0.0</td>\n      <td>0.0</td>\n      <td>0.0</td>\n      <td>0.0</td>\n      <td>1.0</td>\n      <td>0.0</td>\n      <td>0.0</td>\n      <td>5</td>\n    </tr>\n    <tr>\n      <th>2</th>\n      <td>ffe725d</td>\n      <td>32R</td>\n      <td>Landing</td>\n      <td>Landing</td>\n      <td>34530C</td>\n      <td>AEA042</td>\n      <td>2018-01-01 03:38:12</td>\n      <td>2200.0</td>\n      <td>156.0</td>\n      <td>-832.0</td>\n      <td>B788</td>\n      <td>EZE</td>\n      <td>MAD</td>\n      <td>2018-01-01</td>\n      <td>2018-01-01 03:30:00</td>\n      <td>7.0</td>\n      <td>-1.0</td>\n      <td>56.724</td>\n      <td>230.0</td>\n      <td>16.668</td>\n      <td>0.000000</td>\n      <td>10.0</td>\n      <td>1031.0</td>\n      <td>10.0</td>\n      <td>0.0</td>\n      <td>0.0</td>\n      <td>0.0</td>\n      <td>0.0</td>\n      <td>3.0</td>\n      <td>1.0</td>\n      <td>1.0</td>\n      <td>8.0</td>\n      <td>733495</td>\n      <td>0</td>\n      <td>814</td>\n      <td>262</td>\n      <td>67</td>\n      <td>212</td>\n      <td>268</td>\n      <td>1.0</td>\n      <td>0.0</td>\n      <td>0.0</td>\n      <td>0.0</td>\n      <td>0.0</td>\n      <td>0.0</td>\n      <td>0.0</td>\n      <td>1.0</td>\n      <td>0.0</td>\n      <td>0.0</td>\n      <td>5</td>\n    </tr>\n    <tr>\n      <th>3</th>\n      <td>ffea19d</td>\n      <td>32R</td>\n      <td>Landing</td>\n      <td>Landing</td>\n      <td>344211</td>\n      <td>AEA058</td>\n      <td>2018-01-01 03:57:16</td>\n      <td>1862.5</td>\n      <td>143.0</td>\n      <td>-640.0</td>\n      <td>A332</td>\n      <td>GRU</td>\n      <td>MAD</td>\n      <td>2018-01-01</td>\n      <td>2018-01-01 03:30:00</td>\n      <td>7.0</td>\n      <td>-1.0</td>\n      <td>56.724</td>\n      <td>230.0</td>\n      <td>16.668</td>\n      <td>0.000000</td>\n      <td>10.0</td>\n      <td>1031.0</td>\n      <td>10.0</td>\n      <td>0.0</td>\n      <td>0.0</td>\n      <td>0.0</td>\n      <td>0.0</td>\n      <td>3.0</td>\n      <td>1.0</td>\n      <td>1.0</td>\n      <td>8.0</td>\n      <td>733501</td>\n      <td>0</td>\n      <td>625</td>\n      <td>277</td>\n      <td>23</td>\n      <td>254</td>\n      <td>268</td>\n      <td>1.0</td>\n      <td>0.0</td>\n      <td>0.0</td>\n      <td>0.0</td>\n      <td>0.0</td>\n      <td>0.0</td>\n      <td>0.0</td>\n      <td>1.0</td>\n      <td>0.0</td>\n      <td>0.0</td>\n      <td>5</td>\n    </tr>\n    <tr>\n      <th>4</th>\n      <td>ffe781e</td>\n      <td>32R</td>\n      <td>Landing</td>\n      <td>Landing</td>\n      <td>3422CA</td>\n      <td>AEA046</td>\n      <td>2018-01-01 04:05:21</td>\n      <td>2000.0</td>\n      <td>136.0</td>\n      <td>-640.0</td>\n      <td>A332</td>\n      <td>MVD</td>\n      <td>MAD</td>\n      <td>2018-01-01</td>\n      <td>2018-01-01 04:00:00</td>\n      <td>5.0</td>\n      <td>0.0</td>\n      <td>70.063</td>\n      <td>160.0</td>\n      <td>12.964</td>\n      <td>0.000000</td>\n      <td>10.0</td>\n      <td>1031.0</td>\n      <td>10.0</td>\n      <td>0.0</td>\n      <td>0.0</td>\n      <td>0.0</td>\n      <td>0.0</td>\n      <td>4.0</td>\n      <td>1.0</td>\n      <td>1.0</td>\n      <td>9.0</td>\n      <td>733496</td>\n      <td>0</td>\n      <td>491</td>\n      <td>268</td>\n      <td>23</td>\n      <td>421</td>\n      <td>268</td>\n      <td>1.0</td>\n      <td>0.0</td>\n      <td>0.0</td>\n      <td>0.0</td>\n      <td>0.0</td>\n      <td>0.0</td>\n      <td>0.0</td>\n      <td>1.0</td>\n      <td>0.0</td>\n      <td>0.0</td>\n      <td>5</td>\n    </tr>\n  </tbody>\n</table>\n</div>"
     },
     "metadata": {},
     "execution_count": 15
    }
   ],
   "source": [
    "# Ordenamos el dataset\n",
    "sorted_colums = ['id_leg', 'runway','operation1', 'operation2', 'hexid', 'callsign', 'time_stamp',\n",
    "       'altitude', 'ground_speed', 'vertical_rate', 'type', 'origin',\n",
    "       'destination', 'part_date_utc', 'valid_time', 'tmp', 'dew_pt',\n",
    "       'rel_hum', 'wind_dir', 'win_sp', 'wind_gust', 'visib', 'press',\n",
    "       'sky_lvl', 'rain', 'snow', 'drizzle', 'fog', 'time_class', 'day_week',\n",
    "       'month', 'time_ref', 'id_legNORM',\n",
    "       'operation1NORM', 'hexidNORM', 'callsignNORM', 'typeNORM', 'originNORM',\n",
    "       'destinationNORM' , 'operation_Landing', 'operation_Take-Off',\n",
    "       'runway_14L', 'runway_14R', 'runway_18L', 'runway_18R', 'runway_32L',\n",
    "       'runway_32R', 'runway_36L', 'runway_36R', 'runwayNORM']\n",
    "\n",
    "df = df[sorted_colums]\n",
    "df = df.rename(columns={'operation1NORM' : 'operationNORM'})\n",
    "df.head()"
   ]
  },
  {
   "cell_type": "code",
   "execution_count": 15,
   "metadata": {},
   "outputs": [],
   "source": [
    "# Exportamos el dataset original con los datos limpios y normalizados\n",
    "df.to_csv(\"../data/datasets/cleanData.csv\" , sep=';' , index=False)"
   ]
  },
  {
   "cell_type": "code",
   "execution_count": null,
   "metadata": {},
   "outputs": [],
   "source": []
  }
 ],
 "metadata": {
  "kernelspec": {
   "display_name": "tfg",
   "language": "python",
   "name": "tfg"
  },
  "language_info": {
   "codemirror_mode": {
    "name": "ipython",
    "version": 3
   },
   "file_extension": ".py",
   "mimetype": "text/x-python",
   "name": "python",
   "nbconvert_exporter": "python",
   "pygments_lexer": "ipython3",
   "version": "3.7.0-final"
  }
 },
 "nbformat": 4,
 "nbformat_minor": 4
}
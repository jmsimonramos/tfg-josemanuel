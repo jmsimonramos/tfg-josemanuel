{
 "cells": [
  {
   "cell_type": "code",
   "execution_count": 1,
   "metadata": {},
   "outputs": [],
   "source": [
    "import pandas as pd\n",
    "from pathlib import Path\n",
    "import matplotlib.pyplot as plt\n",
    "import seaborn as sns\n",
    "\n",
    "pd.set_option('display.max_columns', None)\n",
    "plt.rcParams.update({'axes.labelsize': 13.5})"
   ]
  },
  {
   "cell_type": "code",
   "execution_count": 2,
   "metadata": {},
   "outputs": [
    {
     "name": "stdout",
     "output_type": "stream",
     "text": [
      "10 Archivos cargados =======\n"
     ]
    }
   ],
   "source": [
    "path = Path('../data/resultados/sensibilidad')\n",
    "files = list(path.glob('*.csv'))\n",
    "print(f\"{len(files)} Archivos cargados =======\")"
   ]
  },
  {
   "cell_type": "code",
   "execution_count": 3,
   "metadata": {},
   "outputs": [],
   "source": [
    "def GenerateFigure(name, df):\n",
    "    fig, ax = plt.subplots(1, 1, figsize = (16, 9))\n",
    "    sns_plot = sns.barplot(x=\"Day\", y=\"ConfigNorm\", hue=\"Configuracion\", data=df)\n",
    "    sns_plot.legend(bbox_to_anchor=(1.05, 1), loc=2, borderaxespad=0.)\n",
    "    ax.set_xticks([])\n",
    "\n",
    "    sns_plot.set(xlabel = \"Tiempo\", ylabel=\"Configuración\")\n",
    "\n",
    "    plt.ylim(0,2)\n",
    "    \n",
    "    plt.title(f\"Cambio de pistas. Sensibilidad: {float(name[-3:].replace(';', '.')) * 100}%\")\n",
    "    plt.show()\n",
    "\n",
    "\n",
    "    figure = sns_plot.get_figure()\n",
    "    figure.savefig(f'./img/{name}.png', dpi=200, bbox_inches='tight')"
   ]
  },
  {
   "cell_type": "code",
   "execution_count": 4,
   "metadata": {},
   "outputs": [
    {
     "name": "stdout",
     "output_type": "stream",
     "text": [
      "Generando imagen 1 de 10\n",
      "Generando imagen 2 de 10\n",
      "Generando imagen 3 de 10\n",
      "Generando imagen 4 de 10\n",
      "Generando imagen 5 de 10\n",
      "Generando imagen 6 de 10\n",
      "Generando imagen 7 de 10\n",
      "Generando imagen 8 de 10\n",
      "Generando imagen 9 de 10\n",
      "Generando imagen 10 de 10\n",
      "Generacion de imagenes completada!!!\n"
     ]
    }
   ],
   "source": [
    "# Generamos imagenes de detección de cambios de pistas para cada fichero de sensibilidad\n",
    "for idx, f in enumerate(files):\n",
    "    print(f\"Generando imagen {idx+1} de {len(files)}\")\n",
    "    df = pd.read_csv(f, sep=';')\n",
    "    GenerateFigure(f.stem, df)\n",
    "print(\"Generacion de imagenes completada!!!\")"
   ]
  },
  {
   "cell_type": "code",
   "execution_count": null,
   "metadata": {},
   "outputs": [],
   "source": []
  }
 ],
 "metadata": {
  "kernelspec": {
   "display_name": "tfg",
   "language": "python",
   "name": "tfg"
  },
  "language_info": {
   "codemirror_mode": {
    "name": "ipython",
    "version": 3
   },
   "file_extension": ".py",
   "mimetype": "text/x-python",
   "name": "python",
   "nbconvert_exporter": "python",
   "pygments_lexer": "ipython3",
   "version": "3.6.10"
  }
 },
 "nbformat": 4,
 "nbformat_minor": 2
}
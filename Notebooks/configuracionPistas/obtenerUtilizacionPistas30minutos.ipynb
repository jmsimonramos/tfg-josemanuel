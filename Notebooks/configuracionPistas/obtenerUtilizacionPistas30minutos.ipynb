{
 "cells": [
  {
   "cell_type": "code",
   "execution_count": 1,
   "metadata": {
    "tags": []
   },
   "outputs": [],
   "source": [
    "import seaborn as sns\n",
    "import pandas as pd\n",
    "import matplotlib.pyplot as plt\n",
    "import datetime\n",
    "\n",
    "pd.set_option('display.max_columns', None)"
   ]
  },
  {
   "cell_type": "code",
   "execution_count": 2,
   "metadata": {},
   "outputs": [
    {
     "output_type": "execute_result",
     "data": {
      "text/plain": "    id_leg runway operation1 operation2   hexid callsign           time_stamp  \\\n0  fff052a    32R    Landing    Landing  342210  IBE3329  2018-01-01 02:43:52   \n1  ffe804b    32R    Landing    Landing  3424D0   AEA026  2018-01-01 03:24:37   \n2  ffe725d    32R    Landing    Landing  34530C   AEA042  2018-01-01 03:38:12   \n3  ffea19d    32R    Landing    Landing  344211   AEA058  2018-01-01 03:57:16   \n4  ffe781e    32R    Landing    Landing  3422CA   AEA046  2018-01-01 04:05:21   \n\n   altitude  ground_speed  vertical_rate  type origin destination  \\\n0    1625.0         142.0         -768.0  A321    DSS         MAD   \n1    1850.0         137.0         -768.0  A332    VVI         MAD   \n2    2200.0         156.0         -832.0  B788    EZE         MAD   \n3    1862.5         143.0         -640.0  A332    GRU         MAD   \n4    2000.0         136.0         -640.0  A332    MVD         MAD   \n\n  part_date_utc           valid_time  tmp  dew_pt  rel_hum  wind_dir  win_sp  \\\n0    2018-01-01  2018-01-01 02:30:00  7.0     0.0   61.017     250.0  20.372   \n1    2018-01-01  2018-01-01 03:00:00  7.0    -1.0   56.724     250.0  25.928   \n2    2018-01-01  2018-01-01 03:30:00  7.0    -1.0   56.724     230.0  16.668   \n3    2018-01-01  2018-01-01 03:30:00  7.0    -1.0   56.724     230.0  16.668   \n4    2018-01-01  2018-01-01 04:00:00  5.0     0.0   70.063     160.0  12.964   \n\n   wind_gust  visib   press  sky_lvl  rain  snow  drizzle  fog  time_class  \\\n0   0.000000   10.0  1030.0     10.0   0.0   0.0      0.0  0.0         2.0   \n1  44.447962   10.0  1030.0     10.0   0.0   0.0      0.0  0.0         3.0   \n2   0.000000   10.0  1031.0     10.0   0.0   0.0      0.0  0.0         3.0   \n3   0.000000   10.0  1031.0     10.0   0.0   0.0      0.0  0.0         3.0   \n4   0.000000   10.0  1031.0     10.0   0.0   0.0      0.0  0.0         4.0   \n\n   day_week  month  time_ref  id_legNORM  operationNORM  hexidNORM  \\\n0       1.0    1.0       6.0      733513              0        483   \n1       1.0    1.0       7.0      733498              0        515   \n2       1.0    1.0       8.0      733495              0        814   \n3       1.0    1.0       8.0      733501              0        625   \n4       1.0    1.0       9.0      733496              0        491   \n\n   callsignNORM  typeNORM  originNORM  destinationNORM  operation_Landing  \\\n0          6920        22         186              268                1.0   \n1           246        23         664              268                1.0   \n2           262        67         212              268                1.0   \n3           277        23         254              268                1.0   \n4           268        23         421              268                1.0   \n\n   operation_Take-Off  runway_14L  runway_14R  runway_18L  runway_18R  \\\n0                 0.0         0.0         0.0         0.0         0.0   \n1                 0.0         0.0         0.0         0.0         0.0   \n2                 0.0         0.0         0.0         0.0         0.0   \n3                 0.0         0.0         0.0         0.0         0.0   \n4                 0.0         0.0         0.0         0.0         0.0   \n\n   runway_32L  runway_32R  runway_36L  runway_36R  runwayNORM  \n0         0.0         1.0         0.0         0.0           5  \n1         0.0         1.0         0.0         0.0           5  \n2         0.0         1.0         0.0         0.0           5  \n3         0.0         1.0         0.0         0.0           5  \n4         0.0         1.0         0.0         0.0           5  ",
      "text/html": "<div>\n<style scoped>\n    .dataframe tbody tr th:only-of-type {\n        vertical-align: middle;\n    }\n\n    .dataframe tbody tr th {\n        vertical-align: top;\n    }\n\n    .dataframe thead th {\n        text-align: right;\n    }\n</style>\n<table border=\"1\" class=\"dataframe\">\n  <thead>\n    <tr style=\"text-align: right;\">\n      <th></th>\n      <th>id_leg</th>\n      <th>runway</th>\n      <th>operation1</th>\n      <th>operation2</th>\n      <th>hexid</th>\n      <th>callsign</th>\n      <th>time_stamp</th>\n      <th>altitude</th>\n      <th>ground_speed</th>\n      <th>vertical_rate</th>\n      <th>type</th>\n      <th>origin</th>\n      <th>destination</th>\n      <th>part_date_utc</th>\n      <th>valid_time</th>\n      <th>tmp</th>\n      <th>dew_pt</th>\n      <th>rel_hum</th>\n      <th>wind_dir</th>\n      <th>win_sp</th>\n      <th>wind_gust</th>\n      <th>visib</th>\n      <th>press</th>\n      <th>sky_lvl</th>\n      <th>rain</th>\n      <th>snow</th>\n      <th>drizzle</th>\n      <th>fog</th>\n      <th>time_class</th>\n      <th>day_week</th>\n      <th>month</th>\n      <th>time_ref</th>\n      <th>id_legNORM</th>\n      <th>operationNORM</th>\n      <th>hexidNORM</th>\n      <th>callsignNORM</th>\n      <th>typeNORM</th>\n      <th>originNORM</th>\n      <th>destinationNORM</th>\n      <th>operation_Landing</th>\n      <th>operation_Take-Off</th>\n      <th>runway_14L</th>\n      <th>runway_14R</th>\n      <th>runway_18L</th>\n      <th>runway_18R</th>\n      <th>runway_32L</th>\n      <th>runway_32R</th>\n      <th>runway_36L</th>\n      <th>runway_36R</th>\n      <th>runwayNORM</th>\n    </tr>\n  </thead>\n  <tbody>\n    <tr>\n      <th>0</th>\n      <td>fff052a</td>\n      <td>32R</td>\n      <td>Landing</td>\n      <td>Landing</td>\n      <td>342210</td>\n      <td>IBE3329</td>\n      <td>2018-01-01 02:43:52</td>\n      <td>1625.0</td>\n      <td>142.0</td>\n      <td>-768.0</td>\n      <td>A321</td>\n      <td>DSS</td>\n      <td>MAD</td>\n      <td>2018-01-01</td>\n      <td>2018-01-01 02:30:00</td>\n      <td>7.0</td>\n      <td>0.0</td>\n      <td>61.017</td>\n      <td>250.0</td>\n      <td>20.372</td>\n      <td>0.000000</td>\n      <td>10.0</td>\n      <td>1030.0</td>\n      <td>10.0</td>\n      <td>0.0</td>\n      <td>0.0</td>\n      <td>0.0</td>\n      <td>0.0</td>\n      <td>2.0</td>\n      <td>1.0</td>\n      <td>1.0</td>\n      <td>6.0</td>\n      <td>733513</td>\n      <td>0</td>\n      <td>483</td>\n      <td>6920</td>\n      <td>22</td>\n      <td>186</td>\n      <td>268</td>\n      <td>1.0</td>\n      <td>0.0</td>\n      <td>0.0</td>\n      <td>0.0</td>\n      <td>0.0</td>\n      <td>0.0</td>\n      <td>0.0</td>\n      <td>1.0</td>\n      <td>0.0</td>\n      <td>0.0</td>\n      <td>5</td>\n    </tr>\n    <tr>\n      <th>1</th>\n      <td>ffe804b</td>\n      <td>32R</td>\n      <td>Landing</td>\n      <td>Landing</td>\n      <td>3424D0</td>\n      <td>AEA026</td>\n      <td>2018-01-01 03:24:37</td>\n      <td>1850.0</td>\n      <td>137.0</td>\n      <td>-768.0</td>\n      <td>A332</td>\n      <td>VVI</td>\n      <td>MAD</td>\n      <td>2018-01-01</td>\n      <td>2018-01-01 03:00:00</td>\n      <td>7.0</td>\n      <td>-1.0</td>\n      <td>56.724</td>\n      <td>250.0</td>\n      <td>25.928</td>\n      <td>44.447962</td>\n      <td>10.0</td>\n      <td>1030.0</td>\n      <td>10.0</td>\n      <td>0.0</td>\n      <td>0.0</td>\n      <td>0.0</td>\n      <td>0.0</td>\n      <td>3.0</td>\n      <td>1.0</td>\n      <td>1.0</td>\n      <td>7.0</td>\n      <td>733498</td>\n      <td>0</td>\n      <td>515</td>\n      <td>246</td>\n      <td>23</td>\n      <td>664</td>\n      <td>268</td>\n      <td>1.0</td>\n      <td>0.0</td>\n      <td>0.0</td>\n      <td>0.0</td>\n      <td>0.0</td>\n      <td>0.0</td>\n      <td>0.0</td>\n      <td>1.0</td>\n      <td>0.0</td>\n      <td>0.0</td>\n      <td>5</td>\n    </tr>\n    <tr>\n      <th>2</th>\n      <td>ffe725d</td>\n      <td>32R</td>\n      <td>Landing</td>\n      <td>Landing</td>\n      <td>34530C</td>\n      <td>AEA042</td>\n      <td>2018-01-01 03:38:12</td>\n      <td>2200.0</td>\n      <td>156.0</td>\n      <td>-832.0</td>\n      <td>B788</td>\n      <td>EZE</td>\n      <td>MAD</td>\n      <td>2018-01-01</td>\n      <td>2018-01-01 03:30:00</td>\n      <td>7.0</td>\n      <td>-1.0</td>\n      <td>56.724</td>\n      <td>230.0</td>\n      <td>16.668</td>\n      <td>0.000000</td>\n      <td>10.0</td>\n      <td>1031.0</td>\n      <td>10.0</td>\n      <td>0.0</td>\n      <td>0.0</td>\n      <td>0.0</td>\n      <td>0.0</td>\n      <td>3.0</td>\n      <td>1.0</td>\n      <td>1.0</td>\n      <td>8.0</td>\n      <td>733495</td>\n      <td>0</td>\n      <td>814</td>\n      <td>262</td>\n      <td>67</td>\n      <td>212</td>\n      <td>268</td>\n      <td>1.0</td>\n      <td>0.0</td>\n      <td>0.0</td>\n      <td>0.0</td>\n      <td>0.0</td>\n      <td>0.0</td>\n      <td>0.0</td>\n      <td>1.0</td>\n      <td>0.0</td>\n      <td>0.0</td>\n      <td>5</td>\n    </tr>\n    <tr>\n      <th>3</th>\n      <td>ffea19d</td>\n      <td>32R</td>\n      <td>Landing</td>\n      <td>Landing</td>\n      <td>344211</td>\n      <td>AEA058</td>\n      <td>2018-01-01 03:57:16</td>\n      <td>1862.5</td>\n      <td>143.0</td>\n      <td>-640.0</td>\n      <td>A332</td>\n      <td>GRU</td>\n      <td>MAD</td>\n      <td>2018-01-01</td>\n      <td>2018-01-01 03:30:00</td>\n      <td>7.0</td>\n      <td>-1.0</td>\n      <td>56.724</td>\n      <td>230.0</td>\n      <td>16.668</td>\n      <td>0.000000</td>\n      <td>10.0</td>\n      <td>1031.0</td>\n      <td>10.0</td>\n      <td>0.0</td>\n      <td>0.0</td>\n      <td>0.0</td>\n      <td>0.0</td>\n      <td>3.0</td>\n      <td>1.0</td>\n      <td>1.0</td>\n      <td>8.0</td>\n      <td>733501</td>\n      <td>0</td>\n      <td>625</td>\n      <td>277</td>\n      <td>23</td>\n      <td>254</td>\n      <td>268</td>\n      <td>1.0</td>\n      <td>0.0</td>\n      <td>0.0</td>\n      <td>0.0</td>\n      <td>0.0</td>\n      <td>0.0</td>\n      <td>0.0</td>\n      <td>1.0</td>\n      <td>0.0</td>\n      <td>0.0</td>\n      <td>5</td>\n    </tr>\n    <tr>\n      <th>4</th>\n      <td>ffe781e</td>\n      <td>32R</td>\n      <td>Landing</td>\n      <td>Landing</td>\n      <td>3422CA</td>\n      <td>AEA046</td>\n      <td>2018-01-01 04:05:21</td>\n      <td>2000.0</td>\n      <td>136.0</td>\n      <td>-640.0</td>\n      <td>A332</td>\n      <td>MVD</td>\n      <td>MAD</td>\n      <td>2018-01-01</td>\n      <td>2018-01-01 04:00:00</td>\n      <td>5.0</td>\n      <td>0.0</td>\n      <td>70.063</td>\n      <td>160.0</td>\n      <td>12.964</td>\n      <td>0.000000</td>\n      <td>10.0</td>\n      <td>1031.0</td>\n      <td>10.0</td>\n      <td>0.0</td>\n      <td>0.0</td>\n      <td>0.0</td>\n      <td>0.0</td>\n      <td>4.0</td>\n      <td>1.0</td>\n      <td>1.0</td>\n      <td>9.0</td>\n      <td>733496</td>\n      <td>0</td>\n      <td>491</td>\n      <td>268</td>\n      <td>23</td>\n      <td>421</td>\n      <td>268</td>\n      <td>1.0</td>\n      <td>0.0</td>\n      <td>0.0</td>\n      <td>0.0</td>\n      <td>0.0</td>\n      <td>0.0</td>\n      <td>0.0</td>\n      <td>1.0</td>\n      <td>0.0</td>\n      <td>0.0</td>\n      <td>5</td>\n    </tr>\n  </tbody>\n</table>\n</div>"
     },
     "metadata": {},
     "execution_count": 2
    }
   ],
   "source": [
    "df = pd.read_csv(\"../data/datasets/cleanData.csv\" , sep=\";\")\n",
    "df.head()"
   ]
  },
  {
   "cell_type": "code",
   "execution_count": 3,
   "metadata": {},
   "outputs": [
    {
     "output_type": "execute_result",
     "data": {
      "text/plain": "733822"
     },
     "metadata": {},
     "execution_count": 3
    }
   ],
   "source": [
    "df.shape[0]"
   ]
  },
  {
   "cell_type": "code",
   "execution_count": 4,
   "metadata": {},
   "outputs": [],
   "source": [
    "def calculateRunways(df_aux, date):\n",
    "    operation = []\n",
    "    pistas = [\"36L\", \"18R\", \"36R\", \"18L\", \"32L\", \"14R\", \"32R\", \"14L\"]\n",
    "\n",
    "    # Calculamos las operaciones que se realizan en cada pista segun su tipo y lo almacenamos en un fichero\n",
    "    df_30 = df_aux[(df_aux.operation_Landing == False) & (df_aux.runway_36L == True)]\n",
    "    operation.append(df_30.shape[0])\n",
    "    df_30 = df_aux[(df_aux.operation_Landing == False) & (df_aux.runway_18R == True)]\n",
    "    operation.append(df_30.shape[0])\n",
    "    df_30 = df_aux[(df_aux.operation_Landing == False) & (df_aux.runway_36R == True)]\n",
    "    operation.append(df_30.shape[0])        \n",
    "    df_30 = df_aux[(df_aux.operation_Landing == False) & (df_aux.runway_18L == True)]\n",
    "    operation.append(df_30.shape[0])\n",
    "    df_30 = df_aux[(df_aux.operation_Landing == False) & (df_aux.runway_32L == True)]\n",
    "    operation.append(df_30.shape[0])\n",
    "    df_30 = df_aux[(df_aux.operation_Landing == False) & (df_aux.runway_14R == True)]\n",
    "    operation.append(df_30.shape[0])\n",
    "    df_30 = df_aux[(df_aux.operation_Landing == False) & (df_aux.runway_32R == True)]\n",
    "    operation.append(df_30.shape[0])\n",
    "    df_30 = df_aux[(df_aux.operation_Landing == False) & (df_aux.runway_14L == True)]\n",
    "    operation.append(df_30.shape[0])\n",
    "\n",
    "    with open (f'../data/runwayData/Operation{date}.csv' , 'a' , encoding='utf-8') as file:\n",
    "        file.write(\"Runway;NumberOperations;Type\\n\")\n",
    "        for item, pista in zip(operation, pistas):\n",
    "            file.write(f\"{pista};{item};Despegue\\n\")\n",
    "    \n",
    "    operation = []\n",
    "\n",
    "    df_30 = df_aux[(df_aux.operation_Landing == True) & (df_aux.runway_36L == True)]\n",
    "    operation.append(df_30.shape[0])\n",
    "    df_30 = df_aux[(df_aux.operation_Landing == True) & (df_aux.runway_18R == True)]\n",
    "    operation.append(df_30.shape[0])\n",
    "    df_30 = df_aux[(df_aux.operation_Landing == True) & (df_aux.runway_36R == True)]\n",
    "    operation.append(df_30.shape[0])        \n",
    "    df_30 = df_aux[(df_aux.operation_Landing == True) & (df_aux.runway_18L == True)]\n",
    "    operation.append(df_30.shape[0])\n",
    "    df_30 = df_aux[(df_aux.operation_Landing == True) & (df_aux.runway_32L == True)]\n",
    "    operation.append(df_30.shape[0])\n",
    "    df_30 = df_aux[(df_aux.operation_Landing == True) & (df_aux.runway_14R == True)]\n",
    "    operation.append(df_30.shape[0])\n",
    "    df_30 = df_aux[(df_aux.operation_Landing == True) & (df_aux.runway_32R == True)]\n",
    "    operation.append(df_30.shape[0])\n",
    "    df_30 = df_aux[(df_aux.operation_Landing == True) & (df_aux.runway_14L == True)]\n",
    "    operation.append(df_30.shape[0])\n",
    "\n",
    "    with open (f'../data/runwayData/Operation{date}.csv' , 'a' , encoding='utf-8') as file:\n",
    "        for item, pista in zip(operation, pistas):\n",
    "            file.write(f\"{pista};{item};Aterrizaje\\n\")\n",
    "    "
   ]
  },
  {
   "cell_type": "code",
   "execution_count": 5,
   "metadata": {},
   "outputs": [],
   "source": [
    "def calculateOperations():\n",
    "    dias = df[\"valid_time\"].unique()\n",
    "    for idx, dia in enumerate(dias):\n",
    "        try:\n",
    "            df_dias = df[df['valid_time'] == dia]\n",
    "            date = datetime.datetime.strptime(dia , \"%Y-%m-%d %H:%M:%S\")\n",
    "\n",
    "            calculateRunways(df_dias, date=dia.replace(\":\", ';'))\n",
    "                \n",
    "            if idx % 1500 == 0:\n",
    "                print(f\"Dia {idx+1} de {len(dias)}\")\n",
    "            \n",
    "        except Exception as e:\n",
    "            print(f\"Ha ocurrido un error en la iteracion {idx}\\n ERROR: {e}\")       "
   ]
  },
  {
   "cell_type": "code",
   "execution_count": 6,
   "metadata": {
    "scrolled": true,
    "tags": []
   },
   "outputs": [
    {
     "output_type": "stream",
     "name": "stdout",
     "text": "Comienzo ejecucion\nDia 1 de 36761\nDia 1501 de 36761\nDia 3001 de 36761\nDia 4501 de 36761\nDia 6001 de 36761\nDia 7501 de 36761\nDia 9001 de 36761\nDia 10501 de 36761\nDia 12001 de 36761\nDia 13501 de 36761\nDia 15001 de 36761\nDia 16501 de 36761\nDia 18001 de 36761\nDia 19501 de 36761\nDia 21001 de 36761\nDia 22501 de 36761\nDia 24001 de 36761\nDia 25501 de 36761\nDia 27001 de 36761\nDia 28501 de 36761\nDia 30001 de 36761\nDia 31501 de 36761\nDia 33001 de 36761\nDia 34501 de 36761\nDia 36001 de 36761\nFin Ejecucion\n"
    }
   ],
   "source": [
    "print(\"Comienzo ejecucion\")\n",
    "calculateOperations()\n",
    "print(\"Fin Ejecucion\")"
   ]
  },
  {
   "cell_type": "code",
   "execution_count": null,
   "metadata": {},
   "outputs": [],
   "source": []
  }
 ],
 "metadata": {
  "kernelspec": {
   "display_name": "Python 3.7.0 64-bit ('tfg': conda)",
   "language": "python",
   "name": "python37064bittfgconda3a3537ca45d749f9a68dd860a63d18da"
  },
  "language_info": {
   "codemirror_mode": {
    "name": "ipython",
    "version": 3
   },
   "file_extension": ".py",
   "mimetype": "text/x-python",
   "name": "python",
   "nbconvert_exporter": "python",
   "pygments_lexer": "ipython3",
   "version": "3.7.0-final"
  }
 },
 "nbformat": 4,
 "nbformat_minor": 2
}
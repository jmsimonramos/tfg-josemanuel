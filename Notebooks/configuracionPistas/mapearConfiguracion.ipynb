{
 "cells": [
  {
   "cell_type": "code",
   "execution_count": 1,
   "metadata": {
    "tags": []
   },
   "outputs": [],
   "source": [
    "import pandas as pd\n",
    "from pathlib import Path\n",
    "\n",
    "pd.set_option('display.max_columns', None)"
   ]
  },
  {
   "cell_type": "code",
   "execution_count": 2,
   "metadata": {
    "tags": []
   },
   "outputs": [
    {
     "name": "stdout",
     "output_type": "stream",
     "text": [
      "36761 Archivos cargados =======\n"
     ]
    }
   ],
   "source": [
    "path = Path('../data/runwayData/') # Cargamos la utilizacion de las pistas para cada intervalo de 30 minutos\n",
    "files = list(path.glob('*.csv'))\n",
    "print(f\"{len(files)} Archivos cargados =======\")"
   ]
  },
  {
   "cell_type": "code",
   "execution_count": 3,
   "metadata": {},
   "outputs": [],
   "source": [
    "def runwaysInUse(row):\n",
    "    return len([x for x in row if x > 0])"
   ]
  },
  {
   "cell_type": "code",
   "execution_count": 4,
   "metadata": {},
   "outputs": [
    {
     "name": "stdout",
     "output_type": "stream",
     "text": [
      "Comienzo carga de dataFrames\n",
      "(cargaDataFrame) Se han cargado 1 de 36761 dataFrames\n",
      "(cargaDataFrame) Se han cargado 1501 de 36761 dataFrames\n",
      "(cargaDataFrame) Se han cargado 3001 de 36761 dataFrames\n",
      "(cargaDataFrame) Se han cargado 4501 de 36761 dataFrames\n",
      "(cargaDataFrame) Se han cargado 6001 de 36761 dataFrames\n",
      "(cargaDataFrame) Se han cargado 7501 de 36761 dataFrames\n",
      "(cargaDataFrame) Se han cargado 9001 de 36761 dataFrames\n",
      "(cargaDataFrame) Se han cargado 10501 de 36761 dataFrames\n",
      "(cargaDataFrame) Se han cargado 12001 de 36761 dataFrames\n",
      "(cargaDataFrame) Se han cargado 13501 de 36761 dataFrames\n",
      "(cargaDataFrame) Se han cargado 15001 de 36761 dataFrames\n",
      "(cargaDataFrame) Se han cargado 16501 de 36761 dataFrames\n",
      "(cargaDataFrame) Se han cargado 18001 de 36761 dataFrames\n",
      "(cargaDataFrame) Se han cargado 19501 de 36761 dataFrames\n",
      "(cargaDataFrame) Se han cargado 21001 de 36761 dataFrames\n",
      "(cargaDataFrame) Se han cargado 22501 de 36761 dataFrames\n",
      "(cargaDataFrame) Se han cargado 24001 de 36761 dataFrames\n",
      "(cargaDataFrame) Se han cargado 25501 de 36761 dataFrames\n",
      "(cargaDataFrame) Se han cargado 27001 de 36761 dataFrames\n",
      "(cargaDataFrame) Se han cargado 28501 de 36761 dataFrames\n",
      "(cargaDataFrame) Se han cargado 30001 de 36761 dataFrames\n",
      "(cargaDataFrame) Se han cargado 31501 de 36761 dataFrames\n",
      "(cargaDataFrame) Se han cargado 33001 de 36761 dataFrames\n",
      "(cargaDataFrame) Se han cargado 34501 de 36761 dataFrames\n",
      "(cargaDataFrame) Se han cargado 36001 de 36761 dataFrames\n",
      "Fin carga de dataFrames\n"
     ]
    }
   ],
   "source": [
    "# Cargamos los datos de ocupacion de todos los intervalos de 30 minutos y mapeamos la ocupacion.\n",
    "\n",
    "config = []\n",
    "read = []\n",
    "print(\"Comienzo carga de dataFrames\")\n",
    "for idx, f in enumerate(files):\n",
    "    df = pd.read_csv(f , sep=';')\n",
    "    op = []\n",
    "    count = runwaysInUse(df['NumberOperations'].values)\n",
    "    configuration = f'{count}|'\n",
    "    for index, row in df.iterrows():\n",
    "        if row['NumberOperations'] > 0:\n",
    "            configuration += f\"{row['Type'][0]}.{row['Runway']}-\"\n",
    "            op.append(f\"{row['NumberOperations']}#{row['Type'][0]}.{row['Runway']}\")\n",
    "\n",
    "    configuration = configuration[:-1]\n",
    "\n",
    "    config.append(configuration)\n",
    "    read.append((f.stem , configuration , op)) # (Hora, Configuracion, Operaciones)\n",
    "    \n",
    "    if idx % 1500 == 0:\n",
    "        print(f\"(cargaDataFrame) Se han cargado {idx + 1} de {len(files)} dataFrames\")\n",
    "    \n",
    "print(\"Fin carga de dataFrames\")"
   ]
  },
  {
   "cell_type": "code",
   "execution_count": 5,
   "metadata": {},
   "outputs": [],
   "source": [
    "def maped_madrid_runways(runway_list, sensibility = 0.6):\n",
    "    c = {}\n",
    "    i = 0\n",
    "    nort_conf = \"A.32R-A.32L-D.36L-D.36R\"\n",
    "    sur_conf = \"A.18R-A.18L-D.14L-D.14R\"\n",
    "\n",
    "    with open (f\"../data/resultados/sensibilidad/resume{str(sensibility).replace('.', ';')}.csv\", 'w', encoding='utf-8') as file:\n",
    "        file.write(\"Day;Configuracion;NOperations;SOperations;TotalOperations\\n\")\n",
    "\n",
    "    for day, configuration, usage in runway_list:\n",
    "        hour = int(day.split(' ')[1].replace(';', ':').split(':')[0])\n",
    "    \n",
    "        total_operations, nOperation, sOperation = 0, 0, 0\n",
    "        for runways in usage: # Calculamos las operaciones que se realizan en cada una de las pistas\n",
    "            operation, runway = runways.split('#')\n",
    "            if runway in nort_conf:\n",
    "                nOperation += int(operation)\n",
    "            elif runway in sur_conf:\n",
    "                sOperation += int(operation)\n",
    "            total_operations = nOperation + sOperation\n",
    "        \n",
    "        # Asignamos a cada hora una configuracion en funcion de las pistas que se utilicen\n",
    "        \n",
    "        if nOperation > 0 and sOperation == 0: \n",
    "             with open (f\"../data/resultados/sensibilidad/resume{str(sensibility).replace('.', ';')}.csv\", 'a', encoding='utf-8') as file:\n",
    "                file.write(f\"{day.replace('Operation', '').replace(';', ':')};NORTE;{nOperation};{sOperation};{total_operations}\\n\")\n",
    "        elif sOperation > 0 and nOperation == 0:\n",
    "             with open (f\"../data/resultados/sensibilidad/resume{str(sensibility).replace('.', ';')}.csv\", 'a', encoding='utf-8') as file:\n",
    "                file.write(f\"{day.replace('Operation', '').replace(';', ':')};SUR;{nOperation};{sOperation};{total_operations}\\n\")\n",
    "        elif nOperation > 0 and sOperation > 0:\n",
    "            if nOperation / total_operations > sensibility:\n",
    "                with open (f\"../data/resultados/sensibilidad/resume{str(sensibility).replace('.', ';')}.csv\", 'a', encoding='utf-8') as file:\n",
    "                    file.write(f\"{day.replace('Operation', '').replace(';', ':')};NORTE;{nOperation};{sOperation};{total_operations}\\n\")\n",
    "            elif sOperation / total_operations > sensibility:\n",
    "                with open (f\"../data/resultados/sensibilidad/resume{str(sensibility).replace('.', ';')}.csv\", 'a', encoding='utf-8') as file:\n",
    "                    file.write(f\"{day.replace('Operation', '').replace(';', ':')};SUR;{nOperation};{sOperation};{total_operations}\\n\")\n",
    "            else:\n",
    "                with open (f\"../data/resultados/sensibilidad/resume{str(sensibility).replace('.', ';')}.csv\", 'a', encoding='utf-8') as file:\n",
    "                    file.write(f\"{day.replace('Operation', '').replace(';', ':')};AMBAS;{nOperation};{sOperation};{total_operations}\\n\")\n",
    "        elif nOperation == 0 and sOperation == 0:\n",
    "            pass\n",
    "        else:\n",
    "            with open (f\"../data/resultados/sensibilidad/resume{str(sensibility).replace('.', ';')}.csv\", 'a', encoding='utf-8') as file:\n",
    "                file.write(f\"{day.replace('Operation', '').replace(';', ':')};ERROR;{nOperation};{sOperation};{total_operations}\\n\")"
   ]
  },
  {
   "cell_type": "code",
   "execution_count": 6,
   "metadata": {},
   "outputs": [
    {
     "name": "stdout",
     "output_type": "stream",
     "text": [
      "Fin de todos los analisis sensibilidad!!!!!!\n"
     ]
    }
   ],
   "source": [
    "sensibility = [0.5, 0.55, 0.6, 0.65, 0.7, 0.75, 0.8, 0.85, 0.9, 0.95]\n",
    "\n",
    "for idx, s in enumerate(sensibility): # Realizamos el mapeo de la configuracion para distintos valores de sensibilidad\n",
    "    try:\n",
    "        maped_madrid_runways(read , sensibility=s)\n",
    "    except Exception as e:\n",
    "        print(f\"ERROR. SE HA PRODUCIDO UN ERROR CON LA SENSIBILIDAD {s}\\nCodigo: {e}\")\n",
    "        print(f\"Fin del analisis sensibilidad numero {idx + 1}!!!\")\n",
    "        continue\n",
    "print(\"Fin de todos los analisis sensibilidad!!!!!!\")"
   ]
  },
  {
   "cell_type": "markdown",
   "metadata": {},
   "source": [
    "### Ordenamos los registros del .csv por día y añadimos el mapeo de las configuraciones"
   ]
  },
  {
   "cell_type": "code",
   "execution_count": 7,
   "metadata": {},
   "outputs": [
    {
     "name": "stdout",
     "output_type": "stream",
     "text": [
      "10 Archivos cargados =======\n"
     ]
    }
   ],
   "source": [
    "path2 = Path('../data/resultados/sensibilidad')\n",
    "files2 = list(path2.glob('*.csv'))\n",
    "print(f\"{len(files2)} Archivos cargados =======\")"
   ]
  },
  {
   "cell_type": "code",
   "execution_count": 8,
   "metadata": {},
   "outputs": [],
   "source": [
    "mapping = {\"NORTE\":1, \"SUR\":1, \"AMBAS\":2}\n",
    "for f in files2:  # Ordenamos el dataset por fecha\n",
    "    df = pd.read_csv(f, sep = \";\")\n",
    "    df = df.sort_values(by=['Day'])\n",
    "    colum = []\n",
    "    for index, row in df.iterrows():\n",
    "        colum.append(mapping[row[\"Configuracion\"]])\n",
    "    \n",
    "    df[\"ConfigNorm\"] = colum\n",
    "    df.to_csv(f\"{path2}/{f.stem}.csv\", sep=';', index=False)"
   ]
  },
  {
   "cell_type": "code",
   "execution_count": null,
   "metadata": {},
   "outputs": [],
   "source": []
  }
 ],
 "metadata": {
  "kernelspec": {
   "display_name": "tfg",
   "language": "python",
   "name": "tfg"
  },
  "language_info": {
   "codemirror_mode": {
    "name": "ipython",
    "version": 3
   },
   "file_extension": ".py",
   "mimetype": "text/x-python",
   "name": "python",
   "nbconvert_exporter": "python",
   "pygments_lexer": "ipython3",
   "version": "3.6.10"
  }
 },
 "nbformat": 4,
 "nbformat_minor": 4
}
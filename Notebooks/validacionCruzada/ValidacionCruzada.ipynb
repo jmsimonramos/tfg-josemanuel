{
 "cells": [
  {
   "cell_type": "code",
   "execution_count": 1,
   "metadata": {},
   "outputs": [],
   "source": [
    "import pandas as pd\n",
    "import matplotlib.pyplot as plt\n",
    "import seaborn as sns\n",
    "from sklearn.ensemble import RandomForestClassifier, VotingClassifier\n",
    "from sklearn.model_selection import train_test_split\n",
    "from sklearn.neighbors import KNeighborsClassifier\n",
    "from sklearn.neural_network import MLPClassifier\n",
    "import sklearn.model_selection as ms\n",
    "\n",
    "\n",
    "sns.set(style=\"whitegrid\", rc={\"lines.linewidth\": 4})\n",
    "plt.rcParams.update({'axes.labelsize': 13.5})"
   ]
  },
  {
   "cell_type": "code",
   "execution_count": 2,
   "metadata": {},
   "outputs": [
    {
     "output_type": "execute_result",
     "data": {
      "text/plain": "   id_leg  operation  runway  hexid  callsign  type  origin  destination  \\\n0  733513          0       5    483      6920    22     186          268   \n1  733498          0       5    515       246    23     664          268   \n2  733495          0       5    814       262    67     212          268   \n3  733501          0       5    625       277    23     254          268   \n4  733496          0       5    491       268    23     421          268   \n\n   altitude  ground_speed  ...  runway_14R  runway_18L  runway_18R  \\\n0    1625.0         142.0  ...         0.0         0.0         0.0   \n1    1850.0         137.0  ...         0.0         0.0         0.0   \n2    2200.0         156.0  ...         0.0         0.0         0.0   \n3    1862.5         143.0  ...         0.0         0.0         0.0   \n4    2000.0         136.0  ...         0.0         0.0         0.0   \n\n   runway_32L  runway_32R  runway_36L  runway_36R  configuration_NORTE  \\\n0         0.0         1.0         0.0         0.0                    1   \n1         0.0         1.0         0.0         0.0                    1   \n2         0.0         1.0         0.0         0.0                    1   \n3         0.0         1.0         0.0         0.0                    1   \n4         0.0         1.0         0.0         0.0                    1   \n\n   configuration_SUR  configuration  \n0                  0              0  \n1                  0              0  \n2                  0              0  \n3                  0              0  \n4                  0              0  \n\n[5 rows x 41 columns]",
      "text/html": "<div>\n<style scoped>\n    .dataframe tbody tr th:only-of-type {\n        vertical-align: middle;\n    }\n\n    .dataframe tbody tr th {\n        vertical-align: top;\n    }\n\n    .dataframe thead th {\n        text-align: right;\n    }\n</style>\n<table border=\"1\" class=\"dataframe\">\n  <thead>\n    <tr style=\"text-align: right;\">\n      <th></th>\n      <th>id_leg</th>\n      <th>operation</th>\n      <th>runway</th>\n      <th>hexid</th>\n      <th>callsign</th>\n      <th>type</th>\n      <th>origin</th>\n      <th>destination</th>\n      <th>altitude</th>\n      <th>ground_speed</th>\n      <th>...</th>\n      <th>runway_14R</th>\n      <th>runway_18L</th>\n      <th>runway_18R</th>\n      <th>runway_32L</th>\n      <th>runway_32R</th>\n      <th>runway_36L</th>\n      <th>runway_36R</th>\n      <th>configuration_NORTE</th>\n      <th>configuration_SUR</th>\n      <th>configuration</th>\n    </tr>\n  </thead>\n  <tbody>\n    <tr>\n      <th>0</th>\n      <td>733513</td>\n      <td>0</td>\n      <td>5</td>\n      <td>483</td>\n      <td>6920</td>\n      <td>22</td>\n      <td>186</td>\n      <td>268</td>\n      <td>1625.0</td>\n      <td>142.0</td>\n      <td>...</td>\n      <td>0.0</td>\n      <td>0.0</td>\n      <td>0.0</td>\n      <td>0.0</td>\n      <td>1.0</td>\n      <td>0.0</td>\n      <td>0.0</td>\n      <td>1</td>\n      <td>0</td>\n      <td>0</td>\n    </tr>\n    <tr>\n      <th>1</th>\n      <td>733498</td>\n      <td>0</td>\n      <td>5</td>\n      <td>515</td>\n      <td>246</td>\n      <td>23</td>\n      <td>664</td>\n      <td>268</td>\n      <td>1850.0</td>\n      <td>137.0</td>\n      <td>...</td>\n      <td>0.0</td>\n      <td>0.0</td>\n      <td>0.0</td>\n      <td>0.0</td>\n      <td>1.0</td>\n      <td>0.0</td>\n      <td>0.0</td>\n      <td>1</td>\n      <td>0</td>\n      <td>0</td>\n    </tr>\n    <tr>\n      <th>2</th>\n      <td>733495</td>\n      <td>0</td>\n      <td>5</td>\n      <td>814</td>\n      <td>262</td>\n      <td>67</td>\n      <td>212</td>\n      <td>268</td>\n      <td>2200.0</td>\n      <td>156.0</td>\n      <td>...</td>\n      <td>0.0</td>\n      <td>0.0</td>\n      <td>0.0</td>\n      <td>0.0</td>\n      <td>1.0</td>\n      <td>0.0</td>\n      <td>0.0</td>\n      <td>1</td>\n      <td>0</td>\n      <td>0</td>\n    </tr>\n    <tr>\n      <th>3</th>\n      <td>733501</td>\n      <td>0</td>\n      <td>5</td>\n      <td>625</td>\n      <td>277</td>\n      <td>23</td>\n      <td>254</td>\n      <td>268</td>\n      <td>1862.5</td>\n      <td>143.0</td>\n      <td>...</td>\n      <td>0.0</td>\n      <td>0.0</td>\n      <td>0.0</td>\n      <td>0.0</td>\n      <td>1.0</td>\n      <td>0.0</td>\n      <td>0.0</td>\n      <td>1</td>\n      <td>0</td>\n      <td>0</td>\n    </tr>\n    <tr>\n      <th>4</th>\n      <td>733496</td>\n      <td>0</td>\n      <td>5</td>\n      <td>491</td>\n      <td>268</td>\n      <td>23</td>\n      <td>421</td>\n      <td>268</td>\n      <td>2000.0</td>\n      <td>136.0</td>\n      <td>...</td>\n      <td>0.0</td>\n      <td>0.0</td>\n      <td>0.0</td>\n      <td>0.0</td>\n      <td>1.0</td>\n      <td>0.0</td>\n      <td>0.0</td>\n      <td>1</td>\n      <td>0</td>\n      <td>0</td>\n    </tr>\n  </tbody>\n</table>\n<p>5 rows × 41 columns</p>\n</div>"
     },
     "metadata": {},
     "execution_count": 2
    }
   ],
   "source": [
    "df = pd.read_csv('../data/datasets/cleanDataConfig.csv', sep=';')\n",
    "df.head()"
   ]
  },
  {
   "cell_type": "code",
   "execution_count": 3,
   "metadata": {},
   "outputs": [],
   "source": [
    "columns_names = df.columns.to_list()\n",
    "\n",
    "predictors = columns_names[:38]\n",
    "\n",
    "target = columns_names[-1]\n",
    "\n",
    "X = df[predictors]\n",
    "\n",
    "Y = df[target]"
   ]
  },
  {
   "cell_type": "code",
   "execution_count": 4,
   "metadata": {},
   "outputs": [],
   "source": [
    "X_train , X_test , Y_train , Y_test = train_test_split(X , Y , test_size=0.2, shuffle=True, random_state=0)"
   ]
  },
  {
   "cell_type": "code",
   "execution_count": 5,
   "metadata": {},
   "outputs": [],
   "source": [
    "def validacion_cruzada():\n",
    "    filename = '../data/resultados/validacionCruzada/crossValidationRESULTS.csv'\n",
    "    kfold = ms.StratifiedKFold(n_splits=10, shuffle=True, random_state=0).split(X_train, Y_train)\n",
    "\n",
    "    forest = RandomForestClassifier(n_jobs=3, n_estimators=10)\n",
    "\n",
    "    try:\n",
    "        print(\"Inicio RANDOM FOREST\")\n",
    "        for k, (train,test) in enumerate(kfold):\n",
    "            forest.fit(X_train.iloc[train], Y_train.iloc[train])\n",
    "            train_score = forest.score(X_train.iloc[train], Y_train.iloc[train])\n",
    "            validation_score = forest.score(X_train.iloc[test], Y_train.iloc[test])\n",
    "            test_score = forest.score(X_test, Y_test)\n",
    "            \n",
    "            with open (filename, 'a', encoding='utf-8') as file:\n",
    "                file.write(f\"RANDOM_FOREST;{k+1};{train_score};{validation_score};{test_score}\\n\")\n",
    "    except Exception as e:\n",
    "        print(\"ERROR (RANDOM FOREST): \\n \", e)\n",
    "    ##################################################################################################################\n",
    "\n",
    "    kfold = ms.StratifiedKFold(n_splits=10, shuffle=True, random_state=0).split(X_train, Y_train)\n",
    "\n",
    "    knn = RandomForestClassifier(n_jobs=3, n_estimators=10)\n",
    "\n",
    "    try:\n",
    "        print(\"Inicio KNN\")\n",
    "        for k, (train,test) in enumerate(kfold):\n",
    "            knn.fit(X_train.iloc[train], Y_train.iloc[train])\n",
    "            train_score = knn.score(X_train.iloc[train], Y_train.iloc[train])\n",
    "            validation_score = knn.score(X_train.iloc[test], Y_train.iloc[test])\n",
    "            test_score = knn.score(X_test, Y_test)\n",
    "            \n",
    "            with open (filename, 'a', encoding='utf-8') as file:\n",
    "                file.write(f\"KNN;{k+1};{train_score};{validation_score};{test_score}\\n\")\n",
    "    except Exception as e:\n",
    "        print(\"ERROR (KNN): \\n \", e)\n",
    "    ##################################################################################################################\n",
    "\n",
    "    kfold = ms.StratifiedKFold(n_splits=10, shuffle=True, random_state=0).split(X_train, Y_train)\n",
    "\n",
    "    rrnn = RandomForestClassifier(n_jobs=3, n_estimators=10)\n",
    "\n",
    "    try:\n",
    "        print(\"Inicio RRNN\")\n",
    "        for k, (train,test) in enumerate(kfold):\n",
    "            rrnn.fit(X_train.iloc[train], Y_train.iloc[train])\n",
    "            train_score = rrnn.score(X_train.iloc[train], Y_train.iloc[train])\n",
    "            validation_score = rrnn.score(X_train.iloc[test], Y_train.iloc[test])\n",
    "            test_score = rrnn.score(X_test, Y_test)\n",
    "            \n",
    "            with open (filename, 'a', encoding='utf-8') as file:\n",
    "                file.write(f\"RRNN;{k+1};{train_score};{validation_score};{test_score}\\n\")\n",
    "    except Exception as e:\n",
    "        print(\"ERROR (RRNN): \\n \", e)\n",
    "    ###################################################################################################\n",
    "    kfold = ms.StratifiedKFold(n_splits=10, shuffle=True, random_state=0).split(X_train, Y_train)\n",
    "\n",
    "    forest = RandomForestClassifier(oob_score=True , n_estimators=200, n_jobs=7, max_depth=18)\n",
    "    knn = KNeighborsClassifier(n_neighbors=5 , metric='manhattan', n_jobs=7, weights='distance')\n",
    "    rrnn = MLPClassifier(hidden_layer_sizes=(38,25,40,35), solver='adam', activation='relu', max_iter=125, shuffle=True, random_state=0)\n",
    "\n",
    "    final_model = VotingClassifier(\n",
    "        estimators=[('random_forest', forest), ('knn', knn), ('rrnn', rrnn)],\n",
    "        voting='soft',\n",
    "        n_jobs=7\n",
    "        )\n",
    "\n",
    "    try:\n",
    "        print(\"Inicio ENSEMBLE\")\n",
    "        for k, (train,test) in enumerate(kfold):\n",
    "            print(f\"Iteracion {k+1} de 10\")\n",
    "            final_model.fit(X_train.iloc[train], Y_train.iloc[train])\n",
    "            train_score = final_model.score(X_train.iloc[train], Y_train.iloc[train])\n",
    "            validation_score = final_model.score(X_train.iloc[test], Y_train.iloc[test])\n",
    "            test_score = final_model.score(X_test, Y_test)\n",
    "            print(f\"ENSEMBLE;{k+1};{train_score};{validation_score};{test_score}\")\n",
    "            \n",
    "            with open (filename, 'a', encoding='utf-8') as file:\n",
    "                file.write(f\"ENSEMBLE;{k+1};{train_score};{validation_score};{test_score}\\n\")\n",
    "    except Exception as e:\n",
    "        print(\"ERROR (ENSEMBLE): \\n \", e)\n",
    "\n",
    "    print(\"FIIIIIN!!!!!!!!!!!!!!!!!!!!!\")"
   ]
  },
  {
   "cell_type": "code",
   "execution_count": 6,
   "metadata": {
    "tags": []
   },
   "outputs": [
    {
     "output_type": "stream",
     "name": "stdout",
     "text": "Inicio RANDOM FOREST\nInicio KNN\nInicio RRNN\nInicio ENSEMBLE\nFIIIIIN!!!!!!!!!!!!!!!!!!!!!\n"
    }
   ],
   "source": [
    "validacion_cruzada()"
   ]
  },
  {
   "cell_type": "code",
   "execution_count": null,
   "metadata": {},
   "outputs": [],
   "source": []
  }
 ],
 "metadata": {
  "kernelspec": {
   "display_name": "tfg",
   "language": "python",
   "name": "tfg"
  },
  "file_extension": ".py",
  "mimetype": "text/x-python",
  "name": "python",
  "nbconvert_exporter": "python",
  "pygments_lexer": "ipython3",
  "version": "3.7.0-final"
 }
}